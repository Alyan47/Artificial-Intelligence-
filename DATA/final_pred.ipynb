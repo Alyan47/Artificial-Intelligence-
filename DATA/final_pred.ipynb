{
 "cells": [
  {
   "cell_type": "code",
   "execution_count": 1,
   "id": "af99132c",
   "metadata": {},
   "outputs": [],
   "source": [
    "import requests"
   ]
  },
  {
   "cell_type": "code",
   "execution_count": 2,
   "id": "abdb4714",
   "metadata": {},
   "outputs": [],
   "source": [
    "url='http://localhost:9696/predict'"
   ]
  },
  {
   "cell_type": "code",
   "execution_count": 3,
   "id": "48757bc4",
   "metadata": {},
   "outputs": [],
   "source": [
    "customer= {\n",
    "  \"customerid\": \"8879-zkjof\",\n",
    "  \"gender\": \"female\",\n",
    "  \"seniorcitizen\": 0,\n",
    "  \"partner\": \"no\",\n",
    "  \"dependents\": \"no\",\n",
    "  \"tenure\": 41,\n",
    "  \"phoneservice\": \"yes\",\n",
    "  \"multiplelines\": \"no\",\n",
    "  \"internetservice\": \"dsl\",\n",
    "  \"onlinesecurity\": \"yes\",\n",
    "  \"onlinebackup\": \"no\",\n",
    "  \"deviceprotection\": \"yes\",\n",
    "  \"techsupport\": \"yes\",\n",
    "  \"streamingtv\": \"yes\",\n",
    "  \"streamingmovies\": \"yes\",\n",
    "  \"contract\": \"one_year\",\n",
    "  \"paperlessbilling\": \"yes\",\n",
    "  \"paymentmethod\": \"bank_transfer_(automatic)\",\n",
    "  \"monthlycharges\": 79.85,\n",
    "  \"totalcharges\": 3320.75\n",
    "}\n"
   ]
  },
  {
   "cell_type": "code",
   "execution_count": 4,
   "id": "03af60ba",
   "metadata": {},
   "outputs": [
    {
     "data": {
      "text/plain": [
       "{'customerid': '8879-zkjof',\n",
       " 'gender': 'female',\n",
       " 'seniorcitizen': 0,\n",
       " 'partner': 'no',\n",
       " 'dependents': 'no',\n",
       " 'tenure': 41,\n",
       " 'phoneservice': 'yes',\n",
       " 'multiplelines': 'no',\n",
       " 'internetservice': 'dsl',\n",
       " 'onlinesecurity': 'yes',\n",
       " 'onlinebackup': 'no',\n",
       " 'deviceprotection': 'yes',\n",
       " 'techsupport': 'yes',\n",
       " 'streamingtv': 'yes',\n",
       " 'streamingmovies': 'yes',\n",
       " 'contract': 'one_year',\n",
       " 'paperlessbilling': 'yes',\n",
       " 'paymentmethod': 'bank_transfer_(automatic)',\n",
       " 'monthlycharges': 79.85,\n",
       " 'totalcharges': 3320.75}"
      ]
     },
     "execution_count": 4,
     "metadata": {},
     "output_type": "execute_result"
    }
   ],
   "source": [
    "customer"
   ]
  },
  {
   "cell_type": "code",
   "execution_count": 12,
   "id": "be2fd6e6",
   "metadata": {},
   "outputs": [
    {
     "data": {
      "text/plain": [
       "{'churn': False, 'churn_Prob': 0.062242955417086784}"
      ]
     },
     "execution_count": 12,
     "metadata": {},
     "output_type": "execute_result"
    }
   ],
   "source": [
    "response=requests.post(url,json=customer).json()\n",
    "response"
   ]
  },
  {
   "cell_type": "code",
   "execution_count": 14,
   "id": "4ebdce85",
   "metadata": {},
   "outputs": [
    {
     "name": "stdout",
     "output_type": "stream",
     "text": [
      "not sending discount to customer-ID: xyz-123\n"
     ]
    }
   ],
   "source": [
    "if response['churn']==True:\n",
    "    print('sending discount to customer-ID: %s' %('xyz-123'))\n",
    "else:\n",
    "    print('not sending discount to customer-ID: %s' %('xyz-123'))"
   ]
  },
  {
   "cell_type": "code",
   "execution_count": null,
   "id": "223605d2",
   "metadata": {},
   "outputs": [],
   "source": []
  }
 ],
 "metadata": {
  "kernelspec": {
   "display_name": "Python 3 (ipykernel)",
   "language": "python",
   "name": "python3"
  },
  "language_info": {
   "codemirror_mode": {
    "name": "ipython",
    "version": 3
   },
   "file_extension": ".py",
   "mimetype": "text/x-python",
   "name": "python",
   "nbconvert_exporter": "python",
   "pygments_lexer": "ipython3",
   "version": "3.11.4"
  }
 },
 "nbformat": 4,
 "nbformat_minor": 5
}
