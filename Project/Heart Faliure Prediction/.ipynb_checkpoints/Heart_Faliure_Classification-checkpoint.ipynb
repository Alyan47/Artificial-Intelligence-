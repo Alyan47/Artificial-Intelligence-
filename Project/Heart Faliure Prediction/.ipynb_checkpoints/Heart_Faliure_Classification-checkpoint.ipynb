{
 "cells": [
  {
   "cell_type": "markdown",
   "id": "6c1ef82f",
   "metadata": {},
   "source": [
    "# Project: Heart Faliure Classifiction"
   ]
  },
  {
   "cell_type": "code",
   "execution_count": 70,
   "id": "2bb48432",
   "metadata": {},
   "outputs": [],
   "source": [
    "import numpy as np\n",
    "import pandas as pd\n",
    "import matplotlib.pyplot as plt\n",
    "from sklearn.feature_extraction import DictVectorizer\n",
    "from sklearn.model_selection import train_test_split\n",
    "from sklearn.metrics import mutual_info_score as mi\n",
    "from sklearn.linear_model import LogisticRegression\n",
    "from sklearn.metrics import roc_auc_score"
   ]
  },
  {
   "cell_type": "code",
   "execution_count": 23,
   "id": "27f3c110",
   "metadata": {},
   "outputs": [
    {
     "data": {
      "text/html": [
       "<div>\n",
       "<style scoped>\n",
       "    .dataframe tbody tr th:only-of-type {\n",
       "        vertical-align: middle;\n",
       "    }\n",
       "\n",
       "    .dataframe tbody tr th {\n",
       "        vertical-align: top;\n",
       "    }\n",
       "\n",
       "    .dataframe thead th {\n",
       "        text-align: right;\n",
       "    }\n",
       "</style>\n",
       "<table border=\"1\" class=\"dataframe\">\n",
       "  <thead>\n",
       "    <tr style=\"text-align: right;\">\n",
       "      <th></th>\n",
       "      <th>Age</th>\n",
       "      <th>Sex</th>\n",
       "      <th>ChestPainType</th>\n",
       "      <th>RestingBP</th>\n",
       "      <th>Cholesterol</th>\n",
       "      <th>FastingBS</th>\n",
       "      <th>RestingECG</th>\n",
       "      <th>MaxHR</th>\n",
       "      <th>ExerciseAngina</th>\n",
       "      <th>Oldpeak</th>\n",
       "      <th>ST_Slope</th>\n",
       "      <th>HeartDisease</th>\n",
       "    </tr>\n",
       "  </thead>\n",
       "  <tbody>\n",
       "    <tr>\n",
       "      <th>0</th>\n",
       "      <td>40</td>\n",
       "      <td>M</td>\n",
       "      <td>ATA</td>\n",
       "      <td>140</td>\n",
       "      <td>289</td>\n",
       "      <td>0</td>\n",
       "      <td>Normal</td>\n",
       "      <td>172</td>\n",
       "      <td>N</td>\n",
       "      <td>0.0</td>\n",
       "      <td>Up</td>\n",
       "      <td>0</td>\n",
       "    </tr>\n",
       "    <tr>\n",
       "      <th>1</th>\n",
       "      <td>49</td>\n",
       "      <td>F</td>\n",
       "      <td>NAP</td>\n",
       "      <td>160</td>\n",
       "      <td>180</td>\n",
       "      <td>0</td>\n",
       "      <td>Normal</td>\n",
       "      <td>156</td>\n",
       "      <td>N</td>\n",
       "      <td>1.0</td>\n",
       "      <td>Flat</td>\n",
       "      <td>1</td>\n",
       "    </tr>\n",
       "    <tr>\n",
       "      <th>2</th>\n",
       "      <td>37</td>\n",
       "      <td>M</td>\n",
       "      <td>ATA</td>\n",
       "      <td>130</td>\n",
       "      <td>283</td>\n",
       "      <td>0</td>\n",
       "      <td>ST</td>\n",
       "      <td>98</td>\n",
       "      <td>N</td>\n",
       "      <td>0.0</td>\n",
       "      <td>Up</td>\n",
       "      <td>0</td>\n",
       "    </tr>\n",
       "    <tr>\n",
       "      <th>3</th>\n",
       "      <td>48</td>\n",
       "      <td>F</td>\n",
       "      <td>ASY</td>\n",
       "      <td>138</td>\n",
       "      <td>214</td>\n",
       "      <td>0</td>\n",
       "      <td>Normal</td>\n",
       "      <td>108</td>\n",
       "      <td>Y</td>\n",
       "      <td>1.5</td>\n",
       "      <td>Flat</td>\n",
       "      <td>1</td>\n",
       "    </tr>\n",
       "    <tr>\n",
       "      <th>4</th>\n",
       "      <td>54</td>\n",
       "      <td>M</td>\n",
       "      <td>NAP</td>\n",
       "      <td>150</td>\n",
       "      <td>195</td>\n",
       "      <td>0</td>\n",
       "      <td>Normal</td>\n",
       "      <td>122</td>\n",
       "      <td>N</td>\n",
       "      <td>0.0</td>\n",
       "      <td>Up</td>\n",
       "      <td>0</td>\n",
       "    </tr>\n",
       "  </tbody>\n",
       "</table>\n",
       "</div>"
      ],
      "text/plain": [
       "   Age Sex ChestPainType  RestingBP  Cholesterol  FastingBS RestingECG  MaxHR  \\\n",
       "0   40   M           ATA        140          289          0     Normal    172   \n",
       "1   49   F           NAP        160          180          0     Normal    156   \n",
       "2   37   M           ATA        130          283          0         ST     98   \n",
       "3   48   F           ASY        138          214          0     Normal    108   \n",
       "4   54   M           NAP        150          195          0     Normal    122   \n",
       "\n",
       "  ExerciseAngina  Oldpeak ST_Slope  HeartDisease  \n",
       "0              N      0.0       Up             0  \n",
       "1              N      1.0     Flat             1  \n",
       "2              N      0.0       Up             0  \n",
       "3              Y      1.5     Flat             1  \n",
       "4              N      0.0       Up             0  "
      ]
     },
     "execution_count": 23,
     "metadata": {},
     "output_type": "execute_result"
    }
   ],
   "source": [
    "df=pd.read_csv(\"D:\\Applied Data Science & AI\\Project\\Heart Faliure Prediction\\heart.csv\")\n",
    "df.head()"
   ]
  },
  {
   "cell_type": "code",
   "execution_count": 24,
   "id": "854bc2f3",
   "metadata": {},
   "outputs": [
    {
     "data": {
      "text/plain": [
       "Index(['Age', 'Sex', 'ChestPainType', 'RestingBP', 'Cholesterol', 'FastingBS',\n",
       "       'RestingECG', 'MaxHR', 'ExerciseAngina', 'Oldpeak', 'ST_Slope',\n",
       "       'HeartDisease'],\n",
       "      dtype='object')"
      ]
     },
     "execution_count": 24,
     "metadata": {},
     "output_type": "execute_result"
    }
   ],
   "source": [
    "df.columns"
   ]
  },
  {
   "cell_type": "code",
   "execution_count": 25,
   "id": "5e3aad4b",
   "metadata": {},
   "outputs": [
    {
     "data": {
      "text/plain": [
       "Age                 int64\n",
       "Sex                object\n",
       "ChestPainType      object\n",
       "RestingBP           int64\n",
       "Cholesterol         int64\n",
       "FastingBS           int64\n",
       "RestingECG         object\n",
       "MaxHR               int64\n",
       "ExerciseAngina     object\n",
       "Oldpeak           float64\n",
       "ST_Slope           object\n",
       "HeartDisease        int64\n",
       "dtype: object"
      ]
     },
     "execution_count": 25,
     "metadata": {},
     "output_type": "execute_result"
    }
   ],
   "source": [
    "df.dtypes"
   ]
  },
  {
   "cell_type": "code",
   "execution_count": 26,
   "id": "ced887ed",
   "metadata": {},
   "outputs": [],
   "source": [
    "df.columns= df.columns.str.lower().str.replace(' ','_')"
   ]
  },
  {
   "cell_type": "code",
   "execution_count": 27,
   "id": "0c918dac",
   "metadata": {},
   "outputs": [],
   "source": [
    "categorical_column=list(df.dtypes[df.dtypes=='object'].index)\n",
    "for c in categorical_column:\n",
    "    df[c]=df[c].str.lower().str.replace(' ','_')"
   ]
  },
  {
   "cell_type": "code",
   "execution_count": 28,
   "id": "6fe5bfb0",
   "metadata": {},
   "outputs": [
    {
     "data": {
      "text/plain": [
       "age                 int64\n",
       "sex                object\n",
       "chestpaintype      object\n",
       "restingbp           int64\n",
       "cholesterol         int64\n",
       "fastingbs           int64\n",
       "restingecg         object\n",
       "maxhr               int64\n",
       "exerciseangina     object\n",
       "oldpeak           float64\n",
       "st_slope           object\n",
       "heartdisease        int64\n",
       "dtype: object"
      ]
     },
     "execution_count": 28,
     "metadata": {},
     "output_type": "execute_result"
    }
   ],
   "source": [
    "df.dtypes"
   ]
  },
  {
   "cell_type": "code",
   "execution_count": 29,
   "id": "bb914f64",
   "metadata": {},
   "outputs": [
    {
     "data": {
      "text/plain": [
       "age               0\n",
       "sex               0\n",
       "chestpaintype     0\n",
       "restingbp         0\n",
       "cholesterol       0\n",
       "fastingbs         0\n",
       "restingecg        0\n",
       "maxhr             0\n",
       "exerciseangina    0\n",
       "oldpeak           0\n",
       "st_slope          0\n",
       "heartdisease      0\n",
       "dtype: int64"
      ]
     },
     "execution_count": 29,
     "metadata": {},
     "output_type": "execute_result"
    }
   ],
   "source": [
    "df.isnull().sum()"
   ]
  },
  {
   "cell_type": "markdown",
   "id": "580374d1",
   "metadata": {},
   "source": [
    "## Splitting Data into Train and Test set with 60-20-20 ratio"
   ]
  },
  {
   "cell_type": "code",
   "execution_count": 31,
   "id": "ea1d3f98",
   "metadata": {},
   "outputs": [],
   "source": [
    "df_full_train,df_test= train_test_split(df,test_size=0.2,random_state=1)\n",
    "df_train,df_val= train_test_split(df_full_train,test_size=0.25,random_state=1)"
   ]
  },
  {
   "cell_type": "code",
   "execution_count": 32,
   "id": "7a874391",
   "metadata": {},
   "outputs": [
    {
     "data": {
      "text/plain": [
       "(550, 184, 184)"
      ]
     },
     "execution_count": 32,
     "metadata": {},
     "output_type": "execute_result"
    }
   ],
   "source": [
    "len(df_train),len(df_val),len(df_test)"
   ]
  },
  {
   "cell_type": "code",
   "execution_count": 33,
   "id": "00cc52c9",
   "metadata": {},
   "outputs": [],
   "source": [
    "df_train=df_train.reset_index(drop=True)\n",
    "df_val=df_val.reset_index(drop=True)\n",
    "df_test=df_test.reset_index(drop=True)\n",
    "df_full_train=df_full_train.reset_index(drop=True)"
   ]
  },
  {
   "cell_type": "code",
   "execution_count": 34,
   "id": "e97d0bfc",
   "metadata": {},
   "outputs": [],
   "source": [
    "y_train=df_train.heartdisease.values\n",
    "y_val=df_val.heartdisease.values\n",
    "y_test=df_test.heartdisease.values\n",
    "y_full_train=df_full_train.heartdisease.values"
   ]
  },
  {
   "cell_type": "code",
   "execution_count": 35,
   "id": "5b469d0c",
   "metadata": {},
   "outputs": [],
   "source": [
    "del df_train['heartdisease']\n",
    "del df_val['heartdisease']\n",
    "del df_test['heartdisease']"
   ]
  },
  {
   "cell_type": "markdown",
   "id": "c795da66",
   "metadata": {},
   "source": [
    "## EDA"
   ]
  },
  {
   "cell_type": "code",
   "execution_count": 37,
   "id": "c19826c6",
   "metadata": {},
   "outputs": [
    {
     "data": {
      "text/plain": [
       "age               0\n",
       "sex               0\n",
       "chestpaintype     0\n",
       "restingbp         0\n",
       "cholesterol       0\n",
       "fastingbs         0\n",
       "restingecg        0\n",
       "maxhr             0\n",
       "exerciseangina    0\n",
       "oldpeak           0\n",
       "st_slope          0\n",
       "heartdisease      0\n",
       "dtype: int64"
      ]
     },
     "execution_count": 37,
     "metadata": {},
     "output_type": "execute_result"
    }
   ],
   "source": [
    "df_full_train.isnull().sum()"
   ]
  },
  {
   "cell_type": "code",
   "execution_count": 38,
   "id": "4f36266c",
   "metadata": {},
   "outputs": [
    {
     "data": {
      "text/plain": [
       "1    0.542234\n",
       "0    0.457766\n",
       "Name: heartdisease, dtype: float64"
      ]
     },
     "execution_count": 38,
     "metadata": {},
     "output_type": "execute_result"
    }
   ],
   "source": [
    "df_full_train.heartdisease.value_counts(normalize=True)"
   ]
  },
  {
   "cell_type": "code",
   "execution_count": 39,
   "id": "b5339349",
   "metadata": {},
   "outputs": [
    {
     "data": {
      "text/plain": [
       "0.55"
      ]
     },
     "execution_count": 39,
     "metadata": {},
     "output_type": "execute_result"
    }
   ],
   "source": [
    "global_heartD_rate=df.heartdisease.mean()\n",
    "round(global_heartD_rate,2)"
   ]
  },
  {
   "cell_type": "code",
   "execution_count": 40,
   "id": "365b653c",
   "metadata": {},
   "outputs": [
    {
     "data": {
      "text/plain": [
       "age                 int64\n",
       "sex                object\n",
       "chestpaintype      object\n",
       "restingbp           int64\n",
       "cholesterol         int64\n",
       "fastingbs           int64\n",
       "restingecg         object\n",
       "maxhr               int64\n",
       "exerciseangina     object\n",
       "oldpeak           float64\n",
       "st_slope           object\n",
       "heartdisease        int64\n",
       "dtype: object"
      ]
     },
     "execution_count": 40,
     "metadata": {},
     "output_type": "execute_result"
    }
   ],
   "source": [
    "df.dtypes"
   ]
  },
  {
   "cell_type": "code",
   "execution_count": 41,
   "id": "6eb677fc",
   "metadata": {},
   "outputs": [],
   "source": [
    "numeric=['age','restingbp','cholesterol','fastingbs','maxhr','oldpeak']"
   ]
  },
  {
   "cell_type": "code",
   "execution_count": 43,
   "id": "8eb0be42",
   "metadata": {},
   "outputs": [],
   "source": [
    "categorical=[\n",
    "     'sex', 'chestpaintype', 'restingecg', 'exerciseangina',  'st_slope'\n",
    "]"
   ]
  },
  {
   "cell_type": "code",
   "execution_count": 44,
   "id": "485d7868",
   "metadata": {},
   "outputs": [
    {
     "data": {
      "text/plain": [
       "sex               2\n",
       "chestpaintype     4\n",
       "restingecg        3\n",
       "exerciseangina    2\n",
       "st_slope          3\n",
       "dtype: int64"
      ]
     },
     "execution_count": 44,
     "metadata": {},
     "output_type": "execute_result"
    }
   ],
   "source": [
    "df_full_train[categorical].nunique()"
   ]
  },
  {
   "cell_type": "code",
   "execution_count": 48,
   "id": "269a1c81",
   "metadata": {},
   "outputs": [],
   "source": [
    "def Mutual_information(series):\n",
    "    return mi(series,df_full_train.heartdisease)"
   ]
  },
  {
   "cell_type": "code",
   "execution_count": 53,
   "id": "6e9caa72",
   "metadata": {},
   "outputs": [
    {
     "data": {
      "text/plain": [
       "st_slope          0.184472\n",
       "chestpaintype     0.151883\n",
       "exerciseangina    0.123210\n",
       "sex               0.046335\n",
       "restingecg        0.006789\n",
       "dtype: float64"
      ]
     },
     "execution_count": 53,
     "metadata": {},
     "output_type": "execute_result"
    }
   ],
   "source": [
    "m= df_full_train[categorical].apply(Mutual_information)\n",
    "m.sort_values(ascending=False)"
   ]
  },
  {
   "cell_type": "markdown",
   "id": "38362ca3",
   "metadata": {},
   "source": [
    "## One Hot Encodding"
   ]
  },
  {
   "cell_type": "code",
   "execution_count": 56,
   "id": "241bdb5a",
   "metadata": {},
   "outputs": [],
   "source": [
    "train_dict= df_train[categorical+numeric].to_dict(orient='records')"
   ]
  },
  {
   "cell_type": "code",
   "execution_count": 58,
   "id": "a2350b37",
   "metadata": {},
   "outputs": [],
   "source": [
    "dv=DictVectorizer(sparse=False)"
   ]
  },
  {
   "cell_type": "code",
   "execution_count": 59,
   "id": "fc26d53d",
   "metadata": {},
   "outputs": [],
   "source": [
    "X_train=dv.fit_transform(train_dict)"
   ]
  },
  {
   "cell_type": "code",
   "execution_count": 62,
   "id": "0a4966ee",
   "metadata": {
    "collapsed": true
   },
   "outputs": [
    {
     "data": {
      "text/plain": [
       "['age',\n",
       " 'chestpaintype=asy',\n",
       " 'chestpaintype=ata',\n",
       " 'chestpaintype=nap',\n",
       " 'chestpaintype=ta',\n",
       " 'cholesterol',\n",
       " 'exerciseangina=n',\n",
       " 'exerciseangina=y',\n",
       " 'fastingbs',\n",
       " 'maxhr',\n",
       " 'oldpeak',\n",
       " 'restingbp',\n",
       " 'restingecg=lvh',\n",
       " 'restingecg=normal',\n",
       " 'restingecg=st',\n",
       " 'sex=f',\n",
       " 'sex=m',\n",
       " 'st_slope=down',\n",
       " 'st_slope=flat',\n",
       " 'st_slope=up']"
      ]
     },
     "execution_count": 62,
     "metadata": {},
     "output_type": "execute_result"
    }
   ],
   "source": [
    "features_name=list(dv.get_feature_names_out())\n",
    "features_name"
   ]
  },
  {
   "cell_type": "code",
   "execution_count": 63,
   "id": "cfb4732a",
   "metadata": {},
   "outputs": [],
   "source": [
    "val_dict=df_val[categorical+numeric].to_dict(orient='records')"
   ]
  },
  {
   "cell_type": "code",
   "execution_count": 64,
   "id": "f178f111",
   "metadata": {},
   "outputs": [],
   "source": [
    "X_val=dv.transform(val_dict)"
   ]
  },
  {
   "cell_type": "code",
   "execution_count": 65,
   "id": "e5fa8143",
   "metadata": {},
   "outputs": [],
   "source": [
    "del df_full_train['heartdisease']"
   ]
  },
  {
   "cell_type": "code",
   "execution_count": 66,
   "id": "6b4f6d8c",
   "metadata": {},
   "outputs": [],
   "source": [
    "full_train_dict= df_full_train[categorical+numeric].to_dict(orient='records')\n",
    "X_full_train=dv.transform(full_train_dict)"
   ]
  },
  {
   "cell_type": "code",
   "execution_count": 77,
   "id": "3229abb3",
   "metadata": {},
   "outputs": [],
   "source": [
    "dict_full_test=df_test[categorical+numeric].to_dict(orient='records')\n",
    "X_test=dv.transform(dict_full_test)"
   ]
  },
  {
   "cell_type": "code",
   "execution_count": 75,
   "id": "941ba397",
   "metadata": {
    "collapsed": true
   },
   "outputs": [
    {
     "name": "stderr",
     "output_type": "stream",
     "text": [
      "C:\\Users\\SCS\\anaconda3\\Lib\\site-packages\\sklearn\\linear_model\\_logistic.py:460: ConvergenceWarning: lbfgs failed to converge (status=1):\n",
      "STOP: TOTAL NO. of ITERATIONS REACHED LIMIT.\n",
      "\n",
      "Increase the number of iterations (max_iter) or scale the data as shown in:\n",
      "    https://scikit-learn.org/stable/modules/preprocessing.html\n",
      "Please also refer to the documentation for alternative solver options:\n",
      "    https://scikit-learn.org/stable/modules/linear_model.html#logistic-regression\n",
      "  n_iter_i = _check_optimize_result(\n"
     ]
    }
   ],
   "source": [
    "model=LogisticRegression()\n",
    "model.fit(X_train,y_train)\n",
    "y_pred=model.predict_proba(X_val)[:,1]"
   ]
  },
  {
   "cell_type": "code",
   "execution_count": 76,
   "id": "65482c20",
   "metadata": {},
   "outputs": [
    {
     "data": {
      "text/plain": [
       "0.9091124822021832"
      ]
     },
     "execution_count": 76,
     "metadata": {},
     "output_type": "execute_result"
    }
   ],
   "source": [
    "score=roc_auc_score(y_val,y_pred)\n",
    "score"
   ]
  },
  {
   "cell_type": "code",
   "execution_count": 80,
   "id": "e25912ae",
   "metadata": {
    "collapsed": true
   },
   "outputs": [
    {
     "name": "stderr",
     "output_type": "stream",
     "text": [
      "C:\\Users\\SCS\\anaconda3\\Lib\\site-packages\\sklearn\\linear_model\\_logistic.py:460: ConvergenceWarning: lbfgs failed to converge (status=1):\n",
      "STOP: TOTAL NO. of ITERATIONS REACHED LIMIT.\n",
      "\n",
      "Increase the number of iterations (max_iter) or scale the data as shown in:\n",
      "    https://scikit-learn.org/stable/modules/preprocessing.html\n",
      "Please also refer to the documentation for alternative solver options:\n",
      "    https://scikit-learn.org/stable/modules/linear_model.html#logistic-regression\n",
      "  n_iter_i = _check_optimize_result(\n"
     ]
    }
   ],
   "source": [
    "model.fit(X_full_train,y_full_train)\n",
    "y_final=model.predict_proba(X_test)[:,1]"
   ]
  },
  {
   "cell_type": "code",
   "execution_count": 81,
   "id": "4f8c9ea2",
   "metadata": {},
   "outputs": [
    {
     "data": {
      "text/plain": [
       "0.954791154791155"
      ]
     },
     "execution_count": 81,
     "metadata": {},
     "output_type": "execute_result"
    }
   ],
   "source": [
    "score_final=roc_auc_score(y_test,y_final)\n",
    "score_final"
   ]
  },
  {
   "cell_type": "code",
   "execution_count": null,
   "id": "3459dbce",
   "metadata": {},
   "outputs": [],
   "source": []
  }
 ],
 "metadata": {
  "kernelspec": {
   "display_name": "Python 3 (ipykernel)",
   "language": "python",
   "name": "python3"
  },
  "language_info": {
   "codemirror_mode": {
    "name": "ipython",
    "version": 3
   },
   "file_extension": ".py",
   "mimetype": "text/x-python",
   "name": "python",
   "nbconvert_exporter": "python",
   "pygments_lexer": "ipython3",
   "version": "3.11.4"
  }
 },
 "nbformat": 4,
 "nbformat_minor": 5
}
