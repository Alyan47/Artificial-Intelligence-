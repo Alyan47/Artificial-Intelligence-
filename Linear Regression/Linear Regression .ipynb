{
 "cells": [
  {
   "cell_type": "markdown",
   "id": "fd3a36dc",
   "metadata": {},
   "source": [
    "# Data Processing "
   ]
  },
  {
   "cell_type": "code",
   "execution_count": 1,
   "id": "9ce36b26",
   "metadata": {},
   "outputs": [],
   "source": [
    "import numpy as np\n",
    "import pandas as pd\n",
    "import wget"
   ]
  },
  {
   "cell_type": "code",
   "execution_count": 4,
   "id": "d66f4afc",
   "metadata": {},
   "outputs": [],
   "source": [
    "data='https://raw.githubusercontent.com/alexeygrigorev/mlbookcamp-code/master/chapter-02-car-price/data.csv'"
   ]
  },
  {
   "cell_type": "code",
   "execution_count": 5,
   "id": "c0250599",
   "metadata": {},
   "outputs": [
    {
     "name": "stdout",
     "output_type": "stream",
     "text": [
      "100% [..........................................................................] 1475504 / 1475504"
     ]
    },
    {
     "data": {
      "text/plain": [
       "'D:\\\\Applied Data Science & AI\\\\Python Programming/data (1).csv'"
      ]
     },
     "execution_count": 5,
     "metadata": {},
     "output_type": "execute_result"
    }
   ],
   "source": [
    "wget.download(data, 'D:\\Applied Data Science & AI\\Python Programming')"
   ]
  },
  {
   "cell_type": "code",
   "execution_count": 2,
   "id": "900fab94",
   "metadata": {},
   "outputs": [
    {
     "data": {
      "text/html": [
       "<div>\n",
       "<style scoped>\n",
       "    .dataframe tbody tr th:only-of-type {\n",
       "        vertical-align: middle;\n",
       "    }\n",
       "\n",
       "    .dataframe tbody tr th {\n",
       "        vertical-align: top;\n",
       "    }\n",
       "\n",
       "    .dataframe thead th {\n",
       "        text-align: right;\n",
       "    }\n",
       "</style>\n",
       "<table border=\"1\" class=\"dataframe\">\n",
       "  <thead>\n",
       "    <tr style=\"text-align: right;\">\n",
       "      <th></th>\n",
       "      <th>Make</th>\n",
       "      <th>Model</th>\n",
       "      <th>Year</th>\n",
       "      <th>Engine Fuel Type</th>\n",
       "      <th>Engine HP</th>\n",
       "      <th>Engine Cylinders</th>\n",
       "      <th>Transmission Type</th>\n",
       "      <th>Driven_Wheels</th>\n",
       "      <th>Number of Doors</th>\n",
       "      <th>Market Category</th>\n",
       "      <th>Vehicle Size</th>\n",
       "      <th>Vehicle Style</th>\n",
       "      <th>highway MPG</th>\n",
       "      <th>city mpg</th>\n",
       "      <th>Popularity</th>\n",
       "      <th>MSRP</th>\n",
       "    </tr>\n",
       "  </thead>\n",
       "  <tbody>\n",
       "    <tr>\n",
       "      <th>0</th>\n",
       "      <td>BMW</td>\n",
       "      <td>1 Series M</td>\n",
       "      <td>2011</td>\n",
       "      <td>premium unleaded (required)</td>\n",
       "      <td>335.0</td>\n",
       "      <td>6.0</td>\n",
       "      <td>MANUAL</td>\n",
       "      <td>rear wheel drive</td>\n",
       "      <td>2.0</td>\n",
       "      <td>Factory Tuner,Luxury,High-Performance</td>\n",
       "      <td>Compact</td>\n",
       "      <td>Coupe</td>\n",
       "      <td>26</td>\n",
       "      <td>19</td>\n",
       "      <td>3916</td>\n",
       "      <td>46135</td>\n",
       "    </tr>\n",
       "    <tr>\n",
       "      <th>1</th>\n",
       "      <td>BMW</td>\n",
       "      <td>1 Series</td>\n",
       "      <td>2011</td>\n",
       "      <td>premium unleaded (required)</td>\n",
       "      <td>300.0</td>\n",
       "      <td>6.0</td>\n",
       "      <td>MANUAL</td>\n",
       "      <td>rear wheel drive</td>\n",
       "      <td>2.0</td>\n",
       "      <td>Luxury,Performance</td>\n",
       "      <td>Compact</td>\n",
       "      <td>Convertible</td>\n",
       "      <td>28</td>\n",
       "      <td>19</td>\n",
       "      <td>3916</td>\n",
       "      <td>40650</td>\n",
       "    </tr>\n",
       "    <tr>\n",
       "      <th>2</th>\n",
       "      <td>BMW</td>\n",
       "      <td>1 Series</td>\n",
       "      <td>2011</td>\n",
       "      <td>premium unleaded (required)</td>\n",
       "      <td>300.0</td>\n",
       "      <td>6.0</td>\n",
       "      <td>MANUAL</td>\n",
       "      <td>rear wheel drive</td>\n",
       "      <td>2.0</td>\n",
       "      <td>Luxury,High-Performance</td>\n",
       "      <td>Compact</td>\n",
       "      <td>Coupe</td>\n",
       "      <td>28</td>\n",
       "      <td>20</td>\n",
       "      <td>3916</td>\n",
       "      <td>36350</td>\n",
       "    </tr>\n",
       "    <tr>\n",
       "      <th>3</th>\n",
       "      <td>BMW</td>\n",
       "      <td>1 Series</td>\n",
       "      <td>2011</td>\n",
       "      <td>premium unleaded (required)</td>\n",
       "      <td>230.0</td>\n",
       "      <td>6.0</td>\n",
       "      <td>MANUAL</td>\n",
       "      <td>rear wheel drive</td>\n",
       "      <td>2.0</td>\n",
       "      <td>Luxury,Performance</td>\n",
       "      <td>Compact</td>\n",
       "      <td>Coupe</td>\n",
       "      <td>28</td>\n",
       "      <td>18</td>\n",
       "      <td>3916</td>\n",
       "      <td>29450</td>\n",
       "    </tr>\n",
       "    <tr>\n",
       "      <th>4</th>\n",
       "      <td>BMW</td>\n",
       "      <td>1 Series</td>\n",
       "      <td>2011</td>\n",
       "      <td>premium unleaded (required)</td>\n",
       "      <td>230.0</td>\n",
       "      <td>6.0</td>\n",
       "      <td>MANUAL</td>\n",
       "      <td>rear wheel drive</td>\n",
       "      <td>2.0</td>\n",
       "      <td>Luxury</td>\n",
       "      <td>Compact</td>\n",
       "      <td>Convertible</td>\n",
       "      <td>28</td>\n",
       "      <td>18</td>\n",
       "      <td>3916</td>\n",
       "      <td>34500</td>\n",
       "    </tr>\n",
       "  </tbody>\n",
       "</table>\n",
       "</div>"
      ],
      "text/plain": [
       "  Make       Model  Year             Engine Fuel Type  Engine HP  \\\n",
       "0  BMW  1 Series M  2011  premium unleaded (required)      335.0   \n",
       "1  BMW    1 Series  2011  premium unleaded (required)      300.0   \n",
       "2  BMW    1 Series  2011  premium unleaded (required)      300.0   \n",
       "3  BMW    1 Series  2011  premium unleaded (required)      230.0   \n",
       "4  BMW    1 Series  2011  premium unleaded (required)      230.0   \n",
       "\n",
       "   Engine Cylinders Transmission Type     Driven_Wheels  Number of Doors  \\\n",
       "0               6.0            MANUAL  rear wheel drive              2.0   \n",
       "1               6.0            MANUAL  rear wheel drive              2.0   \n",
       "2               6.0            MANUAL  rear wheel drive              2.0   \n",
       "3               6.0            MANUAL  rear wheel drive              2.0   \n",
       "4               6.0            MANUAL  rear wheel drive              2.0   \n",
       "\n",
       "                         Market Category Vehicle Size Vehicle Style  \\\n",
       "0  Factory Tuner,Luxury,High-Performance      Compact         Coupe   \n",
       "1                     Luxury,Performance      Compact   Convertible   \n",
       "2                Luxury,High-Performance      Compact         Coupe   \n",
       "3                     Luxury,Performance      Compact         Coupe   \n",
       "4                                 Luxury      Compact   Convertible   \n",
       "\n",
       "   highway MPG  city mpg  Popularity   MSRP  \n",
       "0           26        19        3916  46135  \n",
       "1           28        19        3916  40650  \n",
       "2           28        20        3916  36350  \n",
       "3           28        18        3916  29450  \n",
       "4           28        18        3916  34500  "
      ]
     },
     "execution_count": 2,
     "metadata": {},
     "output_type": "execute_result"
    }
   ],
   "source": [
    "df=pd.read_csv('D:\\Applied Data Science & AI\\data.csv')\n",
    "df.head()"
   ]
  },
  {
   "cell_type": "code",
   "execution_count": 3,
   "id": "0be1ff00",
   "metadata": {},
   "outputs": [],
   "source": [
    "df.columns=df.columns.str.lower().str.replace(' ','_')"
   ]
  },
  {
   "cell_type": "code",
   "execution_count": 4,
   "id": "038ef4f6",
   "metadata": {},
   "outputs": [
    {
     "data": {
      "text/plain": [
       "Index(['make', 'model', 'year', 'engine_fuel_type', 'engine_hp',\n",
       "       'engine_cylinders', 'transmission_type', 'driven_wheels',\n",
       "       'number_of_doors', 'market_category', 'vehicle_size', 'vehicle_style',\n",
       "       'highway_mpg', 'city_mpg', 'popularity', 'msrp'],\n",
       "      dtype='object')"
      ]
     },
     "execution_count": 4,
     "metadata": {},
     "output_type": "execute_result"
    }
   ],
   "source": [
    "df.columns"
   ]
  },
  {
   "cell_type": "code",
   "execution_count": 5,
   "id": "32aa94a8",
   "metadata": {},
   "outputs": [],
   "source": [
    "string=list(df.dtypes[df.dtypes=='object'].index)"
   ]
  },
  {
   "cell_type": "code",
   "execution_count": 6,
   "id": "0eb9ec0c",
   "metadata": {},
   "outputs": [],
   "source": [
    "for col in string:\n",
    "    df[col]=df[col].str.lower().str.replace(' ','_')"
   ]
  },
  {
   "cell_type": "code",
   "execution_count": 7,
   "id": "59beeb91",
   "metadata": {},
   "outputs": [
    {
     "data": {
      "text/html": [
       "<div>\n",
       "<style scoped>\n",
       "    .dataframe tbody tr th:only-of-type {\n",
       "        vertical-align: middle;\n",
       "    }\n",
       "\n",
       "    .dataframe tbody tr th {\n",
       "        vertical-align: top;\n",
       "    }\n",
       "\n",
       "    .dataframe thead th {\n",
       "        text-align: right;\n",
       "    }\n",
       "</style>\n",
       "<table border=\"1\" class=\"dataframe\">\n",
       "  <thead>\n",
       "    <tr style=\"text-align: right;\">\n",
       "      <th></th>\n",
       "      <th>make</th>\n",
       "      <th>model</th>\n",
       "      <th>year</th>\n",
       "      <th>engine_fuel_type</th>\n",
       "      <th>engine_hp</th>\n",
       "      <th>engine_cylinders</th>\n",
       "      <th>transmission_type</th>\n",
       "      <th>driven_wheels</th>\n",
       "      <th>number_of_doors</th>\n",
       "      <th>market_category</th>\n",
       "      <th>vehicle_size</th>\n",
       "      <th>vehicle_style</th>\n",
       "      <th>highway_mpg</th>\n",
       "      <th>city_mpg</th>\n",
       "      <th>popularity</th>\n",
       "      <th>msrp</th>\n",
       "    </tr>\n",
       "  </thead>\n",
       "  <tbody>\n",
       "    <tr>\n",
       "      <th>0</th>\n",
       "      <td>bmw</td>\n",
       "      <td>1_series_m</td>\n",
       "      <td>2011</td>\n",
       "      <td>premium_unleaded_(required)</td>\n",
       "      <td>335.0</td>\n",
       "      <td>6.0</td>\n",
       "      <td>manual</td>\n",
       "      <td>rear_wheel_drive</td>\n",
       "      <td>2.0</td>\n",
       "      <td>factory_tuner,luxury,high-performance</td>\n",
       "      <td>compact</td>\n",
       "      <td>coupe</td>\n",
       "      <td>26</td>\n",
       "      <td>19</td>\n",
       "      <td>3916</td>\n",
       "      <td>46135</td>\n",
       "    </tr>\n",
       "    <tr>\n",
       "      <th>1</th>\n",
       "      <td>bmw</td>\n",
       "      <td>1_series</td>\n",
       "      <td>2011</td>\n",
       "      <td>premium_unleaded_(required)</td>\n",
       "      <td>300.0</td>\n",
       "      <td>6.0</td>\n",
       "      <td>manual</td>\n",
       "      <td>rear_wheel_drive</td>\n",
       "      <td>2.0</td>\n",
       "      <td>luxury,performance</td>\n",
       "      <td>compact</td>\n",
       "      <td>convertible</td>\n",
       "      <td>28</td>\n",
       "      <td>19</td>\n",
       "      <td>3916</td>\n",
       "      <td>40650</td>\n",
       "    </tr>\n",
       "    <tr>\n",
       "      <th>2</th>\n",
       "      <td>bmw</td>\n",
       "      <td>1_series</td>\n",
       "      <td>2011</td>\n",
       "      <td>premium_unleaded_(required)</td>\n",
       "      <td>300.0</td>\n",
       "      <td>6.0</td>\n",
       "      <td>manual</td>\n",
       "      <td>rear_wheel_drive</td>\n",
       "      <td>2.0</td>\n",
       "      <td>luxury,high-performance</td>\n",
       "      <td>compact</td>\n",
       "      <td>coupe</td>\n",
       "      <td>28</td>\n",
       "      <td>20</td>\n",
       "      <td>3916</td>\n",
       "      <td>36350</td>\n",
       "    </tr>\n",
       "    <tr>\n",
       "      <th>3</th>\n",
       "      <td>bmw</td>\n",
       "      <td>1_series</td>\n",
       "      <td>2011</td>\n",
       "      <td>premium_unleaded_(required)</td>\n",
       "      <td>230.0</td>\n",
       "      <td>6.0</td>\n",
       "      <td>manual</td>\n",
       "      <td>rear_wheel_drive</td>\n",
       "      <td>2.0</td>\n",
       "      <td>luxury,performance</td>\n",
       "      <td>compact</td>\n",
       "      <td>coupe</td>\n",
       "      <td>28</td>\n",
       "      <td>18</td>\n",
       "      <td>3916</td>\n",
       "      <td>29450</td>\n",
       "    </tr>\n",
       "    <tr>\n",
       "      <th>4</th>\n",
       "      <td>bmw</td>\n",
       "      <td>1_series</td>\n",
       "      <td>2011</td>\n",
       "      <td>premium_unleaded_(required)</td>\n",
       "      <td>230.0</td>\n",
       "      <td>6.0</td>\n",
       "      <td>manual</td>\n",
       "      <td>rear_wheel_drive</td>\n",
       "      <td>2.0</td>\n",
       "      <td>luxury</td>\n",
       "      <td>compact</td>\n",
       "      <td>convertible</td>\n",
       "      <td>28</td>\n",
       "      <td>18</td>\n",
       "      <td>3916</td>\n",
       "      <td>34500</td>\n",
       "    </tr>\n",
       "  </tbody>\n",
       "</table>\n",
       "</div>"
      ],
      "text/plain": [
       "  make       model  year             engine_fuel_type  engine_hp  \\\n",
       "0  bmw  1_series_m  2011  premium_unleaded_(required)      335.0   \n",
       "1  bmw    1_series  2011  premium_unleaded_(required)      300.0   \n",
       "2  bmw    1_series  2011  premium_unleaded_(required)      300.0   \n",
       "3  bmw    1_series  2011  premium_unleaded_(required)      230.0   \n",
       "4  bmw    1_series  2011  premium_unleaded_(required)      230.0   \n",
       "\n",
       "   engine_cylinders transmission_type     driven_wheels  number_of_doors  \\\n",
       "0               6.0            manual  rear_wheel_drive              2.0   \n",
       "1               6.0            manual  rear_wheel_drive              2.0   \n",
       "2               6.0            manual  rear_wheel_drive              2.0   \n",
       "3               6.0            manual  rear_wheel_drive              2.0   \n",
       "4               6.0            manual  rear_wheel_drive              2.0   \n",
       "\n",
       "                         market_category vehicle_size vehicle_style  \\\n",
       "0  factory_tuner,luxury,high-performance      compact         coupe   \n",
       "1                     luxury,performance      compact   convertible   \n",
       "2                luxury,high-performance      compact         coupe   \n",
       "3                     luxury,performance      compact         coupe   \n",
       "4                                 luxury      compact   convertible   \n",
       "\n",
       "   highway_mpg  city_mpg  popularity   msrp  \n",
       "0           26        19        3916  46135  \n",
       "1           28        19        3916  40650  \n",
       "2           28        20        3916  36350  \n",
       "3           28        18        3916  29450  \n",
       "4           28        18        3916  34500  "
      ]
     },
     "execution_count": 7,
     "metadata": {},
     "output_type": "execute_result"
    }
   ],
   "source": [
    "df.head()"
   ]
  },
  {
   "cell_type": "code",
   "execution_count": 8,
   "id": "747e456a",
   "metadata": {},
   "outputs": [
    {
     "data": {
      "text/plain": [
       "make                  object\n",
       "model                 object\n",
       "year                   int64\n",
       "engine_fuel_type      object\n",
       "engine_hp            float64\n",
       "engine_cylinders     float64\n",
       "transmission_type     object\n",
       "driven_wheels         object\n",
       "number_of_doors      float64\n",
       "market_category       object\n",
       "vehicle_size          object\n",
       "vehicle_style         object\n",
       "highway_mpg            int64\n",
       "city_mpg               int64\n",
       "popularity             int64\n",
       "msrp                   int64\n",
       "dtype: object"
      ]
     },
     "execution_count": 8,
     "metadata": {},
     "output_type": "execute_result"
    }
   ],
   "source": [
    "df.dtypes"
   ]
  },
  {
   "cell_type": "code",
   "execution_count": 9,
   "id": "3e44b001",
   "metadata": {},
   "outputs": [
    {
     "name": "stdout",
     "output_type": "stream",
     "text": [
      "make\n",
      "['bmw' 'audi' 'fiat' 'mercedes-benz' 'chrysler']\n",
      "48\n",
      "\n",
      "model\n",
      "['1_series_m' '1_series' '100' '124_spider' '190-class']\n",
      "914\n",
      "\n",
      "year\n",
      "[2011 2012 2013 1992 1993]\n",
      "28\n",
      "\n",
      "engine_fuel_type\n",
      "['premium_unleaded_(required)' 'regular_unleaded'\n",
      " 'premium_unleaded_(recommended)' 'flex-fuel_(unleaded/e85)' 'diesel']\n",
      "10\n",
      "\n",
      "engine_hp\n",
      "[335. 300. 230. 320. 172.]\n",
      "356\n",
      "\n",
      "engine_cylinders\n",
      "[ 6.  4.  5.  8. 12.]\n",
      "9\n",
      "\n",
      "transmission_type\n",
      "['manual' 'automatic' 'automated_manual' 'direct_drive' 'unknown']\n",
      "5\n",
      "\n",
      "driven_wheels\n",
      "['rear_wheel_drive' 'front_wheel_drive' 'all_wheel_drive'\n",
      " 'four_wheel_drive']\n",
      "4\n",
      "\n",
      "number_of_doors\n",
      "[ 2.  4.  3. nan]\n",
      "3\n",
      "\n",
      "market_category\n",
      "['factory_tuner,luxury,high-performance' 'luxury,performance'\n",
      " 'luxury,high-performance' 'luxury' 'performance']\n",
      "71\n",
      "\n",
      "vehicle_size\n",
      "['compact' 'midsize' 'large']\n",
      "3\n",
      "\n",
      "vehicle_style\n",
      "['coupe' 'convertible' 'sedan' 'wagon' '4dr_hatchback']\n",
      "16\n",
      "\n",
      "highway_mpg\n",
      "[26 28 27 25 24]\n",
      "59\n",
      "\n",
      "city_mpg\n",
      "[19 20 18 17 16]\n",
      "69\n",
      "\n",
      "popularity\n",
      "[3916 3105  819  617 1013]\n",
      "48\n",
      "\n",
      "msrp\n",
      "[46135 40650 36350 29450 34500]\n",
      "6049\n",
      "\n"
     ]
    }
   ],
   "source": [
    "for col in df.columns:\n",
    "    print(col)\n",
    "    print(df[col].unique()[:5])\n",
    "    print(df[col].nunique())\n",
    "    print()"
   ]
  },
  {
   "cell_type": "code",
   "execution_count": 10,
   "id": "4c6fdf12",
   "metadata": {},
   "outputs": [],
   "source": [
    "import matplotlib.pyplot as plt\n",
    "import seaborn as sns\n",
    "%matplotlib inline"
   ]
  },
  {
   "cell_type": "code",
   "execution_count": 11,
   "id": "0afe0fa8",
   "metadata": {},
   "outputs": [
    {
     "data": {
      "text/plain": [
       "<Axes: xlabel='msrp', ylabel='Count'>"
      ]
     },
     "execution_count": 11,
     "metadata": {},
     "output_type": "execute_result"
    },
    {
     "data": {
      "image/png": "[encoded data removed]",
      "text/plain": [
       "<Figure size 640x480 with 1 Axes>"
      ]
     },
     "metadata": {},
     "output_type": "display_data"
    }
   ],
   "source": [
    "sns.histplot(df['msrp'],bins=50)"
   ]
  },
  {
   "cell_type": "code",
   "execution_count": 12,
   "id": "1a29dee8",
   "metadata": {},
   "outputs": [
    {
     "data": {
      "text/plain": [
       "<Axes: xlabel='msrp', ylabel='Count'>"
      ]
     },
     "execution_count": 12,
     "metadata": {},
     "output_type": "execute_result"
    },
    {
     "data": {
      "image/png": "[encoded data removed]",
      "text/plain": [
       "<Figure size 640x480 with 1 Axes>"
      ]
     },
     "metadata": {},
     "output_type": "display_data"
    }
   ],
   "source": [
    "sns.histplot(df.msrp[df.msrp < 100000],bins=50)"
   ]
  },
  {
   "cell_type": "code",
   "execution_count": 13,
   "id": "a9a74002",
   "metadata": {},
   "outputs": [
    {
     "data": {
      "text/plain": [
       "array([ 0.        ,  0.69314718,  2.39789527,  6.90875478, 11.51293546])"
      ]
     },
     "execution_count": 13,
     "metadata": {},
     "output_type": "execute_result"
    }
   ],
   "source": [
    "np.log1p([0,1,10,1000,100000])"
   ]
  },
  {
   "cell_type": "code",
   "execution_count": 14,
   "id": "0f1ff9bd",
   "metadata": {},
   "outputs": [],
   "source": [
    "price_logs=np.log1p(df.msrp)"
   ]
  },
  {
   "cell_type": "code",
   "execution_count": 15,
   "id": "15d4dd43",
   "metadata": {},
   "outputs": [
    {
     "data": {
      "text/plain": [
       "<Axes: xlabel='msrp', ylabel='Count'>"
      ]
     },
     "execution_count": 15,
     "metadata": {},
     "output_type": "execute_result"
    },
    {
     "data": {
      "image/png": "[encoded data removed]",
      "text/plain": [
       "<Figure size 640x480 with 1 Axes>"
      ]
     },
     "metadata": {},
     "output_type": "display_data"
    }
   ],
   "source": [
    "sns.histplot(price_logs,bins=50)"
   ]
  },
  {
   "cell_type": "code",
   "execution_count": 16,
   "id": "b790dbeb",
   "metadata": {},
   "outputs": [
    {
     "data": {
      "text/plain": [
       "make                    0\n",
       "model                   0\n",
       "year                    0\n",
       "engine_fuel_type        3\n",
       "engine_hp              69\n",
       "engine_cylinders       30\n",
       "transmission_type       0\n",
       "driven_wheels           0\n",
       "number_of_doors         6\n",
       "market_category      3742\n",
       "vehicle_size            0\n",
       "vehicle_style           0\n",
       "highway_mpg             0\n",
       "city_mpg                0\n",
       "popularity              0\n",
       "msrp                    0\n",
       "dtype: int64"
      ]
     },
     "execution_count": 16,
     "metadata": {},
     "output_type": "execute_result"
    }
   ],
   "source": [
    "df.isnull().sum()"
   ]
  },
  {
   "cell_type": "markdown",
   "id": "5570ec67",
   "metadata": {},
   "source": [
    "# Train Validation and Test Set"
   ]
  },
  {
   "cell_type": "code",
   "execution_count": 17,
   "id": "57cfd7ad",
   "metadata": {},
   "outputs": [],
   "source": [
    "n=len(df)\n",
    "n_val=int(n*0.2)\n",
    "n_test=int(n*0.2)\n",
    "n_train=n - n_val - n_test"
   ]
  },
  {
   "cell_type": "code",
   "execution_count": 18,
   "id": "f2fd3dad",
   "metadata": {},
   "outputs": [
    {
     "data": {
      "text/plain": [
       "(11914, 11914)"
      ]
     },
     "execution_count": 18,
     "metadata": {},
     "output_type": "execute_result"
    }
   ],
   "source": [
    "n,n_val+n_test+n_train"
   ]
  },
  {
   "cell_type": "code",
   "execution_count": 19,
   "id": "c301fb67",
   "metadata": {},
   "outputs": [
    {
     "data": {
      "text/plain": [
       "(2382, 2382, 7150)"
      ]
     },
     "execution_count": 19,
     "metadata": {},
     "output_type": "execute_result"
    }
   ],
   "source": [
    "n_val,n_test,n_train"
   ]
  },
  {
   "cell_type": "code",
   "execution_count": 20,
   "id": "7c0a34dc",
   "metadata": {},
   "outputs": [],
   "source": [
    "df_val= df.iloc[:n_val]\n",
    "df_test=df.iloc[n_val:n_val+n_test]\n",
    "df_train=df.iloc[n_val+n_test:]"
   ]
  },
  {
   "cell_type": "code",
   "execution_count": 21,
   "id": "f40003a2",
   "metadata": {},
   "outputs": [
    {
     "data": {
      "text/html": [
       "<div>\n",
       "<style scoped>\n",
       "    .dataframe tbody tr th:only-of-type {\n",
       "        vertical-align: middle;\n",
       "    }\n",
       "\n",
       "    .dataframe tbody tr th {\n",
       "        vertical-align: top;\n",
       "    }\n",
       "\n",
       "    .dataframe thead th {\n",
       "        text-align: right;\n",
       "    }\n",
       "</style>\n",
       "<table border=\"1\" class=\"dataframe\">\n",
       "  <thead>\n",
       "    <tr style=\"text-align: right;\">\n",
       "      <th></th>\n",
       "      <th>make</th>\n",
       "      <th>model</th>\n",
       "      <th>year</th>\n",
       "      <th>engine_fuel_type</th>\n",
       "      <th>engine_hp</th>\n",
       "      <th>engine_cylinders</th>\n",
       "      <th>transmission_type</th>\n",
       "      <th>driven_wheels</th>\n",
       "      <th>number_of_doors</th>\n",
       "      <th>market_category</th>\n",
       "      <th>vehicle_size</th>\n",
       "      <th>vehicle_style</th>\n",
       "      <th>highway_mpg</th>\n",
       "      <th>city_mpg</th>\n",
       "      <th>popularity</th>\n",
       "      <th>msrp</th>\n",
       "    </tr>\n",
       "  </thead>\n",
       "  <tbody>\n",
       "    <tr>\n",
       "      <th>4764</th>\n",
       "      <td>ford</td>\n",
       "      <td>flex</td>\n",
       "      <td>2016</td>\n",
       "      <td>regular_unleaded</td>\n",
       "      <td>287.0</td>\n",
       "      <td>6.0</td>\n",
       "      <td>automatic</td>\n",
       "      <td>front_wheel_drive</td>\n",
       "      <td>4.0</td>\n",
       "      <td>crossover,performance</td>\n",
       "      <td>large</td>\n",
       "      <td>wagon</td>\n",
       "      <td>23</td>\n",
       "      <td>16</td>\n",
       "      <td>5657</td>\n",
       "      <td>37800</td>\n",
       "    </tr>\n",
       "    <tr>\n",
       "      <th>4765</th>\n",
       "      <td>ford</td>\n",
       "      <td>flex</td>\n",
       "      <td>2017</td>\n",
       "      <td>premium_unleaded_(recommended)</td>\n",
       "      <td>365.0</td>\n",
       "      <td>6.0</td>\n",
       "      <td>automatic</td>\n",
       "      <td>all_wheel_drive</td>\n",
       "      <td>4.0</td>\n",
       "      <td>crossover</td>\n",
       "      <td>large</td>\n",
       "      <td>wagon</td>\n",
       "      <td>21</td>\n",
       "      <td>15</td>\n",
       "      <td>5657</td>\n",
       "      <td>43030</td>\n",
       "    </tr>\n",
       "    <tr>\n",
       "      <th>4766</th>\n",
       "      <td>ford</td>\n",
       "      <td>flex</td>\n",
       "      <td>2017</td>\n",
       "      <td>regular_unleaded</td>\n",
       "      <td>287.0</td>\n",
       "      <td>6.0</td>\n",
       "      <td>automatic</td>\n",
       "      <td>all_wheel_drive</td>\n",
       "      <td>4.0</td>\n",
       "      <td>crossover,performance</td>\n",
       "      <td>large</td>\n",
       "      <td>wagon</td>\n",
       "      <td>22</td>\n",
       "      <td>16</td>\n",
       "      <td>5657</td>\n",
       "      <td>40180</td>\n",
       "    </tr>\n",
       "    <tr>\n",
       "      <th>4767</th>\n",
       "      <td>ford</td>\n",
       "      <td>flex</td>\n",
       "      <td>2017</td>\n",
       "      <td>regular_unleaded</td>\n",
       "      <td>287.0</td>\n",
       "      <td>6.0</td>\n",
       "      <td>automatic</td>\n",
       "      <td>front_wheel_drive</td>\n",
       "      <td>4.0</td>\n",
       "      <td>crossover,performance</td>\n",
       "      <td>large</td>\n",
       "      <td>wagon</td>\n",
       "      <td>23</td>\n",
       "      <td>16</td>\n",
       "      <td>5657</td>\n",
       "      <td>32730</td>\n",
       "    </tr>\n",
       "    <tr>\n",
       "      <th>4768</th>\n",
       "      <td>ford</td>\n",
       "      <td>flex</td>\n",
       "      <td>2017</td>\n",
       "      <td>regular_unleaded</td>\n",
       "      <td>287.0</td>\n",
       "      <td>6.0</td>\n",
       "      <td>automatic</td>\n",
       "      <td>front_wheel_drive</td>\n",
       "      <td>4.0</td>\n",
       "      <td>crossover,performance</td>\n",
       "      <td>large</td>\n",
       "      <td>wagon</td>\n",
       "      <td>23</td>\n",
       "      <td>16</td>\n",
       "      <td>5657</td>\n",
       "      <td>38230</td>\n",
       "    </tr>\n",
       "  </tbody>\n",
       "</table>\n",
       "</div>"
      ],
      "text/plain": [
       "      make model  year                engine_fuel_type  engine_hp  \\\n",
       "4764  ford  flex  2016                regular_unleaded      287.0   \n",
       "4765  ford  flex  2017  premium_unleaded_(recommended)      365.0   \n",
       "4766  ford  flex  2017                regular_unleaded      287.0   \n",
       "4767  ford  flex  2017                regular_unleaded      287.0   \n",
       "4768  ford  flex  2017                regular_unleaded      287.0   \n",
       "\n",
       "      engine_cylinders transmission_type      driven_wheels  number_of_doors  \\\n",
       "4764               6.0         automatic  front_wheel_drive              4.0   \n",
       "4765               6.0         automatic    all_wheel_drive              4.0   \n",
       "4766               6.0         automatic    all_wheel_drive              4.0   \n",
       "4767               6.0         automatic  front_wheel_drive              4.0   \n",
       "4768               6.0         automatic  front_wheel_drive              4.0   \n",
       "\n",
       "            market_category vehicle_size vehicle_style  highway_mpg  city_mpg  \\\n",
       "4764  crossover,performance        large         wagon           23        16   \n",
       "4765              crossover        large         wagon           21        15   \n",
       "4766  crossover,performance        large         wagon           22        16   \n",
       "4767  crossover,performance        large         wagon           23        16   \n",
       "4768  crossover,performance        large         wagon           23        16   \n",
       "\n",
       "      popularity   msrp  \n",
       "4764        5657  37800  \n",
       "4765        5657  43030  \n",
       "4766        5657  40180  \n",
       "4767        5657  32730  \n",
       "4768        5657  38230  "
      ]
     },
     "execution_count": 21,
     "metadata": {},
     "output_type": "execute_result"
    }
   ],
   "source": [
    "df_train.head()"
   ]
  },
  {
   "cell_type": "code",
   "execution_count": 22,
   "id": "0e48a13d",
   "metadata": {},
   "outputs": [],
   "source": [
    "idx=np.arange(n)\n",
    "np.random.seed(2)\n",
    "np.random.shuffle(idx)"
   ]
  },
  {
   "cell_type": "code",
   "execution_count": 23,
   "id": "17860a4a",
   "metadata": {},
   "outputs": [],
   "source": [
    "df_train= df.iloc[idx[:n_train]]\n",
    "df_val=df.iloc[idx[n_train:n_train+n_val]]\n",
    "df_test=df.iloc[idx[n_train+n_val:]]"
   ]
  },
  {
   "cell_type": "code",
   "execution_count": 24,
   "id": "8279d936",
   "metadata": {},
   "outputs": [
    {
     "data": {
      "text/plain": [
       "(7150, 2382, 2382)"
      ]
     },
     "execution_count": 24,
     "metadata": {},
     "output_type": "execute_result"
    }
   ],
   "source": [
    "len(df_train),len(df_val),len(df_test)"
   ]
  },
  {
   "cell_type": "code",
   "execution_count": 25,
   "id": "68b7e370",
   "metadata": {},
   "outputs": [
    {
     "data": {
      "text/html": [
       "<div>\n",
       "<style scoped>\n",
       "    .dataframe tbody tr th:only-of-type {\n",
       "        vertical-align: middle;\n",
       "    }\n",
       "\n",
       "    .dataframe tbody tr th {\n",
       "        vertical-align: top;\n",
       "    }\n",
       "\n",
       "    .dataframe thead th {\n",
       "        text-align: right;\n",
       "    }\n",
       "</style>\n",
       "<table border=\"1\" class=\"dataframe\">\n",
       "  <thead>\n",
       "    <tr style=\"text-align: right;\">\n",
       "      <th></th>\n",
       "      <th>make</th>\n",
       "      <th>model</th>\n",
       "      <th>year</th>\n",
       "      <th>engine_fuel_type</th>\n",
       "      <th>engine_hp</th>\n",
       "      <th>engine_cylinders</th>\n",
       "      <th>transmission_type</th>\n",
       "      <th>driven_wheels</th>\n",
       "      <th>number_of_doors</th>\n",
       "      <th>market_category</th>\n",
       "      <th>vehicle_size</th>\n",
       "      <th>vehicle_style</th>\n",
       "      <th>highway_mpg</th>\n",
       "      <th>city_mpg</th>\n",
       "      <th>popularity</th>\n",
       "      <th>msrp</th>\n",
       "    </tr>\n",
       "  </thead>\n",
       "  <tbody>\n",
       "    <tr>\n",
       "      <th>2735</th>\n",
       "      <td>chevrolet</td>\n",
       "      <td>cobalt</td>\n",
       "      <td>2008</td>\n",
       "      <td>regular_unleaded</td>\n",
       "      <td>148.0</td>\n",
       "      <td>4.0</td>\n",
       "      <td>manual</td>\n",
       "      <td>front_wheel_drive</td>\n",
       "      <td>2.0</td>\n",
       "      <td>NaN</td>\n",
       "      <td>compact</td>\n",
       "      <td>coupe</td>\n",
       "      <td>33</td>\n",
       "      <td>24</td>\n",
       "      <td>1385</td>\n",
       "      <td>14410</td>\n",
       "    </tr>\n",
       "    <tr>\n",
       "      <th>6720</th>\n",
       "      <td>toyota</td>\n",
       "      <td>matrix</td>\n",
       "      <td>2012</td>\n",
       "      <td>regular_unleaded</td>\n",
       "      <td>132.0</td>\n",
       "      <td>4.0</td>\n",
       "      <td>automatic</td>\n",
       "      <td>front_wheel_drive</td>\n",
       "      <td>4.0</td>\n",
       "      <td>hatchback</td>\n",
       "      <td>compact</td>\n",
       "      <td>4dr_hatchback</td>\n",
       "      <td>32</td>\n",
       "      <td>25</td>\n",
       "      <td>2031</td>\n",
       "      <td>19685</td>\n",
       "    </tr>\n",
       "    <tr>\n",
       "      <th>5878</th>\n",
       "      <td>subaru</td>\n",
       "      <td>impreza</td>\n",
       "      <td>2016</td>\n",
       "      <td>regular_unleaded</td>\n",
       "      <td>148.0</td>\n",
       "      <td>4.0</td>\n",
       "      <td>automatic</td>\n",
       "      <td>all_wheel_drive</td>\n",
       "      <td>4.0</td>\n",
       "      <td>hatchback</td>\n",
       "      <td>compact</td>\n",
       "      <td>4dr_hatchback</td>\n",
       "      <td>37</td>\n",
       "      <td>28</td>\n",
       "      <td>640</td>\n",
       "      <td>19795</td>\n",
       "    </tr>\n",
       "    <tr>\n",
       "      <th>11190</th>\n",
       "      <td>volkswagen</td>\n",
       "      <td>vanagon</td>\n",
       "      <td>1991</td>\n",
       "      <td>regular_unleaded</td>\n",
       "      <td>90.0</td>\n",
       "      <td>4.0</td>\n",
       "      <td>manual</td>\n",
       "      <td>rear_wheel_drive</td>\n",
       "      <td>3.0</td>\n",
       "      <td>NaN</td>\n",
       "      <td>large</td>\n",
       "      <td>passenger_minivan</td>\n",
       "      <td>18</td>\n",
       "      <td>16</td>\n",
       "      <td>873</td>\n",
       "      <td>2000</td>\n",
       "    </tr>\n",
       "    <tr>\n",
       "      <th>4554</th>\n",
       "      <td>ford</td>\n",
       "      <td>f-150</td>\n",
       "      <td>2017</td>\n",
       "      <td>flex-fuel_(unleaded/e85)</td>\n",
       "      <td>385.0</td>\n",
       "      <td>8.0</td>\n",
       "      <td>automatic</td>\n",
       "      <td>four_wheel_drive</td>\n",
       "      <td>4.0</td>\n",
       "      <td>flex_fuel</td>\n",
       "      <td>large</td>\n",
       "      <td>crew_cab_pickup</td>\n",
       "      <td>21</td>\n",
       "      <td>15</td>\n",
       "      <td>5657</td>\n",
       "      <td>56260</td>\n",
       "    </tr>\n",
       "  </tbody>\n",
       "</table>\n",
       "</div>"
      ],
      "text/plain": [
       "             make    model  year          engine_fuel_type  engine_hp  \\\n",
       "2735    chevrolet   cobalt  2008          regular_unleaded      148.0   \n",
       "6720       toyota   matrix  2012          regular_unleaded      132.0   \n",
       "5878       subaru  impreza  2016          regular_unleaded      148.0   \n",
       "11190  volkswagen  vanagon  1991          regular_unleaded       90.0   \n",
       "4554         ford    f-150  2017  flex-fuel_(unleaded/e85)      385.0   \n",
       "\n",
       "       engine_cylinders transmission_type      driven_wheels  number_of_doors  \\\n",
       "2735                4.0            manual  front_wheel_drive              2.0   \n",
       "6720                4.0         automatic  front_wheel_drive              4.0   \n",
       "5878                4.0         automatic    all_wheel_drive              4.0   \n",
       "11190               4.0            manual   rear_wheel_drive              3.0   \n",
       "4554                8.0         automatic   four_wheel_drive              4.0   \n",
       "\n",
       "      market_category vehicle_size      vehicle_style  highway_mpg  city_mpg  \\\n",
       "2735              NaN      compact              coupe           33        24   \n",
       "6720        hatchback      compact      4dr_hatchback           32        25   \n",
       "5878        hatchback      compact      4dr_hatchback           37        28   \n",
       "11190             NaN        large  passenger_minivan           18        16   \n",
       "4554        flex_fuel        large    crew_cab_pickup           21        15   \n",
       "\n",
       "       popularity   msrp  \n",
       "2735         1385  14410  \n",
       "6720         2031  19685  \n",
       "5878          640  19795  \n",
       "11190         873   2000  \n",
       "4554         5657  56260  "
      ]
     },
     "execution_count": 25,
     "metadata": {},
     "output_type": "execute_result"
    }
   ],
   "source": [
    "df_train.head()"
   ]
  },
  {
   "cell_type": "code",
   "execution_count": 26,
   "id": "6221b8e0",
   "metadata": {},
   "outputs": [],
   "source": [
    "df_train=df_train.reset_index(drop=True)\n",
    "df_val=df_val.reset_index(drop=True)\n",
    "df_test=df_test.reset_index(drop=True)"
   ]
  },
  {
   "cell_type": "code",
   "execution_count": 27,
   "id": "a4e2d249",
   "metadata": {},
   "outputs": [
    {
     "data": {
      "text/html": [
       "<div>\n",
       "<style scoped>\n",
       "    .dataframe tbody tr th:only-of-type {\n",
       "        vertical-align: middle;\n",
       "    }\n",
       "\n",
       "    .dataframe tbody tr th {\n",
       "        vertical-align: top;\n",
       "    }\n",
       "\n",
       "    .dataframe thead th {\n",
       "        text-align: right;\n",
       "    }\n",
       "</style>\n",
       "<table border=\"1\" class=\"dataframe\">\n",
       "  <thead>\n",
       "    <tr style=\"text-align: right;\">\n",
       "      <th></th>\n",
       "      <th>make</th>\n",
       "      <th>model</th>\n",
       "      <th>year</th>\n",
       "      <th>engine_fuel_type</th>\n",
       "      <th>engine_hp</th>\n",
       "      <th>engine_cylinders</th>\n",
       "      <th>transmission_type</th>\n",
       "      <th>driven_wheels</th>\n",
       "      <th>number_of_doors</th>\n",
       "      <th>market_category</th>\n",
       "      <th>vehicle_size</th>\n",
       "      <th>vehicle_style</th>\n",
       "      <th>highway_mpg</th>\n",
       "      <th>city_mpg</th>\n",
       "      <th>popularity</th>\n",
       "      <th>msrp</th>\n",
       "    </tr>\n",
       "  </thead>\n",
       "  <tbody>\n",
       "    <tr>\n",
       "      <th>0</th>\n",
       "      <td>chevrolet</td>\n",
       "      <td>cobalt</td>\n",
       "      <td>2008</td>\n",
       "      <td>regular_unleaded</td>\n",
       "      <td>148.0</td>\n",
       "      <td>4.0</td>\n",
       "      <td>manual</td>\n",
       "      <td>front_wheel_drive</td>\n",
       "      <td>2.0</td>\n",
       "      <td>NaN</td>\n",
       "      <td>compact</td>\n",
       "      <td>coupe</td>\n",
       "      <td>33</td>\n",
       "      <td>24</td>\n",
       "      <td>1385</td>\n",
       "      <td>14410</td>\n",
       "    </tr>\n",
       "    <tr>\n",
       "      <th>1</th>\n",
       "      <td>toyota</td>\n",
       "      <td>matrix</td>\n",
       "      <td>2012</td>\n",
       "      <td>regular_unleaded</td>\n",
       "      <td>132.0</td>\n",
       "      <td>4.0</td>\n",
       "      <td>automatic</td>\n",
       "      <td>front_wheel_drive</td>\n",
       "      <td>4.0</td>\n",
       "      <td>hatchback</td>\n",
       "      <td>compact</td>\n",
       "      <td>4dr_hatchback</td>\n",
       "      <td>32</td>\n",
       "      <td>25</td>\n",
       "      <td>2031</td>\n",
       "      <td>19685</td>\n",
       "    </tr>\n",
       "    <tr>\n",
       "      <th>2</th>\n",
       "      <td>subaru</td>\n",
       "      <td>impreza</td>\n",
       "      <td>2016</td>\n",
       "      <td>regular_unleaded</td>\n",
       "      <td>148.0</td>\n",
       "      <td>4.0</td>\n",
       "      <td>automatic</td>\n",
       "      <td>all_wheel_drive</td>\n",
       "      <td>4.0</td>\n",
       "      <td>hatchback</td>\n",
       "      <td>compact</td>\n",
       "      <td>4dr_hatchback</td>\n",
       "      <td>37</td>\n",
       "      <td>28</td>\n",
       "      <td>640</td>\n",
       "      <td>19795</td>\n",
       "    </tr>\n",
       "    <tr>\n",
       "      <th>3</th>\n",
       "      <td>volkswagen</td>\n",
       "      <td>vanagon</td>\n",
       "      <td>1991</td>\n",
       "      <td>regular_unleaded</td>\n",
       "      <td>90.0</td>\n",
       "      <td>4.0</td>\n",
       "      <td>manual</td>\n",
       "      <td>rear_wheel_drive</td>\n",
       "      <td>3.0</td>\n",
       "      <td>NaN</td>\n",
       "      <td>large</td>\n",
       "      <td>passenger_minivan</td>\n",
       "      <td>18</td>\n",
       "      <td>16</td>\n",
       "      <td>873</td>\n",
       "      <td>2000</td>\n",
       "    </tr>\n",
       "    <tr>\n",
       "      <th>4</th>\n",
       "      <td>ford</td>\n",
       "      <td>f-150</td>\n",
       "      <td>2017</td>\n",
       "      <td>flex-fuel_(unleaded/e85)</td>\n",
       "      <td>385.0</td>\n",
       "      <td>8.0</td>\n",
       "      <td>automatic</td>\n",
       "      <td>four_wheel_drive</td>\n",
       "      <td>4.0</td>\n",
       "      <td>flex_fuel</td>\n",
       "      <td>large</td>\n",
       "      <td>crew_cab_pickup</td>\n",
       "      <td>21</td>\n",
       "      <td>15</td>\n",
       "      <td>5657</td>\n",
       "      <td>56260</td>\n",
       "    </tr>\n",
       "  </tbody>\n",
       "</table>\n",
       "</div>"
      ],
      "text/plain": [
       "         make    model  year          engine_fuel_type  engine_hp  \\\n",
       "0   chevrolet   cobalt  2008          regular_unleaded      148.0   \n",
       "1      toyota   matrix  2012          regular_unleaded      132.0   \n",
       "2      subaru  impreza  2016          regular_unleaded      148.0   \n",
       "3  volkswagen  vanagon  1991          regular_unleaded       90.0   \n",
       "4        ford    f-150  2017  flex-fuel_(unleaded/e85)      385.0   \n",
       "\n",
       "   engine_cylinders transmission_type      driven_wheels  number_of_doors  \\\n",
       "0               4.0            manual  front_wheel_drive              2.0   \n",
       "1               4.0         automatic  front_wheel_drive              4.0   \n",
       "2               4.0         automatic    all_wheel_drive              4.0   \n",
       "3               4.0            manual   rear_wheel_drive              3.0   \n",
       "4               8.0         automatic   four_wheel_drive              4.0   \n",
       "\n",
       "  market_category vehicle_size      vehicle_style  highway_mpg  city_mpg  \\\n",
       "0             NaN      compact              coupe           33        24   \n",
       "1       hatchback      compact      4dr_hatchback           32        25   \n",
       "2       hatchback      compact      4dr_hatchback           37        28   \n",
       "3             NaN        large  passenger_minivan           18        16   \n",
       "4       flex_fuel        large    crew_cab_pickup           21        15   \n",
       "\n",
       "   popularity   msrp  \n",
       "0        1385  14410  \n",
       "1        2031  19685  \n",
       "2         640  19795  \n",
       "3         873   2000  \n",
       "4        5657  56260  "
      ]
     },
     "execution_count": 27,
     "metadata": {},
     "output_type": "execute_result"
    }
   ],
   "source": [
    "df_train.head()"
   ]
  },
  {
   "cell_type": "code",
   "execution_count": 28,
   "id": "7f044cf5",
   "metadata": {},
   "outputs": [],
   "source": [
    "y_train=np.log1p(df_train.msrp.values)\n",
    "y_val=np.log1p(df_val.msrp.values)\n",
    "y_test=np.log1p(df_test.msrp.values)"
   ]
  },
  {
   "cell_type": "code",
   "execution_count": 29,
   "id": "0bae9265",
   "metadata": {},
   "outputs": [],
   "source": [
    "del df_train['msrp']\n",
    "del df_val['msrp']\n",
    "del df_test['msrp']"
   ]
  },
  {
   "cell_type": "code",
   "execution_count": 30,
   "id": "00bb88a2",
   "metadata": {},
   "outputs": [
    {
     "data": {
      "text/plain": [
       "7150"
      ]
     },
     "execution_count": 30,
     "metadata": {},
     "output_type": "execute_result"
    }
   ],
   "source": [
    "len(y_train)"
   ]
  },
  {
   "cell_type": "markdown",
   "id": "8f7ed989",
   "metadata": {},
   "source": [
    "# Regression "
   ]
  },
  {
   "cell_type": "code",
   "execution_count": 31,
   "id": "796df1ae",
   "metadata": {},
   "outputs": [],
   "source": [
    "xi= [453,11,86]\n",
    "xi=np.array(xi)"
   ]
  },
  {
   "cell_type": "code",
   "execution_count": 32,
   "id": "222d54fa",
   "metadata": {},
   "outputs": [],
   "source": [
    "wo=7.17\n",
    "w=[0.01,0.04,0.002]"
   ]
  },
  {
   "cell_type": "code",
   "execution_count": 33,
   "id": "e6a74f4f",
   "metadata": {},
   "outputs": [],
   "source": [
    "def linear_reg(xi):\n",
    "    prd=wo\n",
    "    n=len(xi)\n",
    "    for i in range(n):\n",
    "        prd=prd+w[i]*xi[i]\n",
    "    return prd"
   ]
  },
  {
   "cell_type": "code",
   "execution_count": 34,
   "id": "cc88efca",
   "metadata": {},
   "outputs": [
    {
     "data": {
      "text/plain": [
       "12.312"
      ]
     },
     "execution_count": 34,
     "metadata": {},
     "output_type": "execute_result"
    }
   ],
   "source": [
    "linear_reg(xi)"
   ]
  },
  {
   "cell_type": "code",
   "execution_count": 35,
   "id": "d2d70d75",
   "metadata": {},
   "outputs": [
    {
     "data": {
      "text/plain": [
       "222347.2221101062"
      ]
     },
     "execution_count": 35,
     "metadata": {},
     "output_type": "execute_result"
    }
   ],
   "source": [
    "np.expm1(12.312)"
   ]
  },
  {
   "cell_type": "code",
   "execution_count": 36,
   "id": "6459cedc",
   "metadata": {},
   "outputs": [],
   "source": [
    "w_new=[wo]+w"
   ]
  },
  {
   "cell_type": "code",
   "execution_count": 37,
   "id": "483765cc",
   "metadata": {},
   "outputs": [],
   "source": [
    "def linear_regression(xi):\n",
    "    xi= np.insert(xi,0,1)\n",
    "    return xi.dot(w_new)"
   ]
  },
  {
   "cell_type": "code",
   "execution_count": 38,
   "id": "2fe6e8a6",
   "metadata": {},
   "outputs": [
    {
     "data": {
      "text/plain": [
       "12.312000000000001"
      ]
     },
     "execution_count": 38,
     "metadata": {},
     "output_type": "execute_result"
    }
   ],
   "source": [
    "linear_regression(xi)"
   ]
  },
  {
   "cell_type": "code",
   "execution_count": 39,
   "id": "ad0b20b3",
   "metadata": {},
   "outputs": [
    {
     "data": {
      "text/plain": [
       "array([[   1,  148,   24, 1345],\n",
       "       [   1,  238,   54, 1645],\n",
       "       [   1,  453,   11,   86]])"
      ]
     },
     "execution_count": 39,
     "metadata": {},
     "output_type": "execute_result"
    }
   ],
   "source": [
    "\n",
    "x1=[1,148,24,1345]\n",
    "x5=[1,238,54,1645]\n",
    "x15=[1,453,11,86]\n",
    "X=[x1,x5,x15]\n",
    "X=np.array(X)\n",
    "X"
   ]
  },
  {
   "cell_type": "code",
   "execution_count": 40,
   "id": "e5ae6067",
   "metadata": {},
   "outputs": [],
   "source": [
    "def linear_regression(xi):\n",
    "    return xi.dot(w_new)"
   ]
  },
  {
   "cell_type": "code",
   "execution_count": 41,
   "id": "3afdecb3",
   "metadata": {},
   "outputs": [
    {
     "data": {
      "text/plain": [
       "array([12.3  , 15.   , 12.312])"
      ]
     },
     "execution_count": 41,
     "metadata": {},
     "output_type": "execute_result"
    }
   ],
   "source": [
    "pred=linear_regression(X)\n",
    "pred"
   ]
  },
  {
   "cell_type": "code",
   "execution_count": 42,
   "id": "cdd3df1b",
   "metadata": {},
   "outputs": [
    {
     "data": {
      "text/plain": [
       "array([ 219694.98867214, 3269016.37247211,  222347.22211011])"
      ]
     },
     "execution_count": 42,
     "metadata": {},
     "output_type": "execute_result"
    }
   ],
   "source": [
    "np.expm1(pred)"
   ]
  },
  {
   "cell_type": "markdown",
   "id": "4eaed022",
   "metadata": {},
   "source": [
    "# Training Model"
   ]
  },
  {
   "cell_type": "code",
   "execution_count": 43,
   "id": "fb966e6f",
   "metadata": {},
   "outputs": [
    {
     "data": {
      "text/plain": [
       "array([[   1,  148,   24, 1345],\n",
       "       [   1,  238,   54, 1645],\n",
       "       [   1,  453,   11,   86]])"
      ]
     },
     "execution_count": 43,
     "metadata": {},
     "output_type": "execute_result"
    }
   ],
   "source": [
    "X"
   ]
  },
  {
   "cell_type": "code",
   "execution_count": 44,
   "id": "11d34ad5",
   "metadata": {},
   "outputs": [
    {
     "data": {
      "text/plain": [
       "array([[ 148,   24, 1385],\n",
       "       [ 132,   25, 2031],\n",
       "       [ 453,   11,   86],\n",
       "       [ 158,   24,  185],\n",
       "       [ 172,   25,  201],\n",
       "       [ 413,   11,   86],\n",
       "       [  38,   54,  185],\n",
       "       [ 142,   25,  431],\n",
       "       [ 453,   31,   86]])"
      ]
     },
     "execution_count": 44,
     "metadata": {},
     "output_type": "execute_result"
    }
   ],
   "source": [
    "X=[\n",
    "[148,24,1385],\n",
    "[132,25,2031],\n",
    "[453,11,86] ,\n",
    "[158,24,185],\n",
    "[172,25,201],\n",
    "[413,11,86],\n",
    "[38,54,185],\n",
    "[142,25,431],\n",
    "[453,31,86],\n",
    "]\n",
    "X=np.array(X)\n",
    "X"
   ]
  },
  {
   "cell_type": "code",
   "execution_count": 45,
   "id": "7a25252d",
   "metadata": {},
   "outputs": [
    {
     "data": {
      "text/plain": [
       "array([1., 1., 1., 1., 1., 1., 1., 1., 1.])"
      ]
     },
     "execution_count": 45,
     "metadata": {},
     "output_type": "execute_result"
    }
   ],
   "source": [
    "ones=np.ones(X.shape[0])\n",
    "ones"
   ]
  },
  {
   "cell_type": "code",
   "execution_count": 46,
   "id": "a572a6df",
   "metadata": {},
   "outputs": [],
   "source": [
    "y=[100,200,150,250,100,200,150,250,120]"
   ]
  },
  {
   "cell_type": "code",
   "execution_count": 47,
   "id": "b75ed139",
   "metadata": {},
   "outputs": [
    {
     "data": {
      "text/plain": [
       "[array([1.000e+00, 1.480e+02, 2.400e+01, 1.385e+03]),\n",
       " array([1.000e+00, 1.320e+02, 2.500e+01, 2.031e+03]),\n",
       " array([  1., 453.,  11.,  86.]),\n",
       " array([  1., 158.,  24., 185.]),\n",
       " array([  1., 172.,  25., 201.]),\n",
       " array([  1., 413.,  11.,  86.]),\n",
       " array([  1.,  38.,  54., 185.]),\n",
       " array([  1., 142.,  25., 431.]),\n",
       " array([  1., 453.,  31.,  86.])]"
      ]
     },
     "execution_count": 47,
     "metadata": {},
     "output_type": "execute_result"
    }
   ],
   "source": [
    "X=np.column_stack([ones,X])\n",
    "list(X)"
   ]
  },
  {
   "cell_type": "code",
   "execution_count": 48,
   "id": "0f8e1624",
   "metadata": {},
   "outputs": [],
   "source": [
    "XTX=X.T.dot(X)"
   ]
  },
  {
   "cell_type": "code",
   "execution_count": 49,
   "id": "796e5179",
   "metadata": {},
   "outputs": [],
   "source": [
    "XTX_inv=np.linalg.inv(XTX)"
   ]
  },
  {
   "cell_type": "code",
   "execution_count": 50,
   "id": "69120e0d",
   "metadata": {},
   "outputs": [],
   "source": [
    "W=XTX_inv.dot(X.T).dot(y)"
   ]
  },
  {
   "cell_type": "code",
   "execution_count": 51,
   "id": "9d84ef3a",
   "metadata": {},
   "outputs": [
    {
     "data": {
      "text/plain": [
       "(300.06776692555593, array([-0.22774253, -2.5769413 , -0.02301206]))"
      ]
     },
     "execution_count": 51,
     "metadata": {},
     "output_type": "execute_result"
    }
   ],
   "source": [
    "w0=W[0]\n",
    "w_full=W[1:]\n",
    "w0,w_full"
   ]
  },
  {
   "cell_type": "code",
   "execution_count": 52,
   "id": "e6e47e7d",
   "metadata": {},
   "outputs": [],
   "source": [
    "def Train_regression(X,y):\n",
    "    ones=np.ones(X.shape[0])\n",
    "    X=np.column_stack([ones,X])\n",
    "    XTX=X.T.dot(X)\n",
    "    XTX_inv=np.linalg.inv(XTX)\n",
    "    W=XTX_inv.dot(X.T).dot(y)\n",
    "    w0=W[0]\n",
    "    w_full=W[1:]\n",
    "    \n",
    "    return w0,w_full"
   ]
  },
  {
   "cell_type": "code",
   "execution_count": 53,
   "id": "e81b65cb",
   "metadata": {},
   "outputs": [],
   "source": [
    "X=[\n",
    "[148,24,1385],\n",
    "[132,25,2031],\n",
    "[453,11,86] ,\n",
    "[158,24,185],\n",
    "[172,25,201],\n",
    "[413,11,86],\n",
    "[38,54,185],\n",
    "[142,25,431],\n",
    "[453,31,86],\n",
    "]\n",
    "X=np.array(X)"
   ]
  },
  {
   "cell_type": "code",
   "execution_count": 54,
   "id": "c5ef80dc",
   "metadata": {},
   "outputs": [
    {
     "data": {
      "text/plain": [
       "(300.06776692555593, array([-0.22774253, -2.5769413 , -0.02301206]))"
      ]
     },
     "execution_count": 54,
     "metadata": {},
     "output_type": "execute_result"
    }
   ],
   "source": [
    "Train_regression(X,y)"
   ]
  },
  {
   "cell_type": "markdown",
   "id": "02230685",
   "metadata": {},
   "source": [
    "# BaseLine Model For predicting Car price"
   ]
  },
  {
   "cell_type": "markdown",
   "id": "bf90fadc",
   "metadata": {},
   "source": [
    "## Using above custome function(Linear Regression)"
   ]
  },
  {
   "cell_type": "code",
   "execution_count": 55,
   "id": "f76bcc4b",
   "metadata": {},
   "outputs": [
    {
     "data": {
      "text/plain": [
       "make                  object\n",
       "model                 object\n",
       "year                   int64\n",
       "engine_fuel_type      object\n",
       "engine_hp            float64\n",
       "engine_cylinders     float64\n",
       "transmission_type     object\n",
       "driven_wheels         object\n",
       "number_of_doors      float64\n",
       "market_category       object\n",
       "vehicle_size          object\n",
       "vehicle_style         object\n",
       "highway_mpg            int64\n",
       "city_mpg               int64\n",
       "popularity             int64\n",
       "dtype: object"
      ]
     },
     "execution_count": 55,
     "metadata": {},
     "output_type": "execute_result"
    }
   ],
   "source": [
    "df_train.dtypes"
   ]
  },
  {
   "cell_type": "code",
   "execution_count": 56,
   "id": "aeed84b1",
   "metadata": {},
   "outputs": [
    {
     "data": {
      "text/plain": [
       "Index(['make', 'model', 'year', 'engine_fuel_type', 'engine_hp',\n",
       "       'engine_cylinders', 'transmission_type', 'driven_wheels',\n",
       "       'number_of_doors', 'market_category', 'vehicle_size', 'vehicle_style',\n",
       "       'highway_mpg', 'city_mpg', 'popularity'],\n",
       "      dtype='object')"
      ]
     },
     "execution_count": 56,
     "metadata": {},
     "output_type": "execute_result"
    }
   ],
   "source": [
    "df_train.columns"
   ]
  },
  {
   "cell_type": "code",
   "execution_count": 57,
   "id": "43a35f1b",
   "metadata": {},
   "outputs": [
    {
     "data": {
      "text/html": [
       "<div>\n",
       "<style scoped>\n",
       "    .dataframe tbody tr th:only-of-type {\n",
       "        vertical-align: middle;\n",
       "    }\n",
       "\n",
       "    .dataframe tbody tr th {\n",
       "        vertical-align: top;\n",
       "    }\n",
       "\n",
       "    .dataframe thead th {\n",
       "        text-align: right;\n",
       "    }\n",
       "</style>\n",
       "<table border=\"1\" class=\"dataframe\">\n",
       "  <thead>\n",
       "    <tr style=\"text-align: right;\">\n",
       "      <th></th>\n",
       "      <th>engine_hp</th>\n",
       "      <th>engine_cylinders</th>\n",
       "      <th>highway_mpg</th>\n",
       "      <th>city_mpg</th>\n",
       "      <th>popularity</th>\n",
       "    </tr>\n",
       "  </thead>\n",
       "  <tbody>\n",
       "    <tr>\n",
       "      <th>0</th>\n",
       "      <td>148.0</td>\n",
       "      <td>4.0</td>\n",
       "      <td>33</td>\n",
       "      <td>24</td>\n",
       "      <td>1385</td>\n",
       "    </tr>\n",
       "    <tr>\n",
       "      <th>1</th>\n",
       "      <td>132.0</td>\n",
       "      <td>4.0</td>\n",
       "      <td>32</td>\n",
       "      <td>25</td>\n",
       "      <td>2031</td>\n",
       "    </tr>\n",
       "    <tr>\n",
       "      <th>2</th>\n",
       "      <td>148.0</td>\n",
       "      <td>4.0</td>\n",
       "      <td>37</td>\n",
       "      <td>28</td>\n",
       "      <td>640</td>\n",
       "    </tr>\n",
       "    <tr>\n",
       "      <th>3</th>\n",
       "      <td>90.0</td>\n",
       "      <td>4.0</td>\n",
       "      <td>18</td>\n",
       "      <td>16</td>\n",
       "      <td>873</td>\n",
       "    </tr>\n",
       "    <tr>\n",
       "      <th>4</th>\n",
       "      <td>385.0</td>\n",
       "      <td>8.0</td>\n",
       "      <td>21</td>\n",
       "      <td>15</td>\n",
       "      <td>5657</td>\n",
       "    </tr>\n",
       "    <tr>\n",
       "      <th>...</th>\n",
       "      <td>...</td>\n",
       "      <td>...</td>\n",
       "      <td>...</td>\n",
       "      <td>...</td>\n",
       "      <td>...</td>\n",
       "    </tr>\n",
       "    <tr>\n",
       "      <th>7145</th>\n",
       "      <td>300.0</td>\n",
       "      <td>6.0</td>\n",
       "      <td>31</td>\n",
       "      <td>20</td>\n",
       "      <td>3916</td>\n",
       "    </tr>\n",
       "    <tr>\n",
       "      <th>7146</th>\n",
       "      <td>210.0</td>\n",
       "      <td>4.0</td>\n",
       "      <td>30</td>\n",
       "      <td>24</td>\n",
       "      <td>873</td>\n",
       "    </tr>\n",
       "    <tr>\n",
       "      <th>7147</th>\n",
       "      <td>285.0</td>\n",
       "      <td>6.0</td>\n",
       "      <td>22</td>\n",
       "      <td>17</td>\n",
       "      <td>549</td>\n",
       "    </tr>\n",
       "    <tr>\n",
       "      <th>7148</th>\n",
       "      <td>563.0</td>\n",
       "      <td>12.0</td>\n",
       "      <td>21</td>\n",
       "      <td>13</td>\n",
       "      <td>86</td>\n",
       "    </tr>\n",
       "    <tr>\n",
       "      <th>7149</th>\n",
       "      <td>200.0</td>\n",
       "      <td>4.0</td>\n",
       "      <td>31</td>\n",
       "      <td>22</td>\n",
       "      <td>873</td>\n",
       "    </tr>\n",
       "  </tbody>\n",
       "</table>\n",
       "<p>7150 rows × 5 columns</p>\n",
       "</div>"
      ],
      "text/plain": [
       "      engine_hp  engine_cylinders  highway_mpg  city_mpg  popularity\n",
       "0         148.0               4.0           33        24        1385\n",
       "1         132.0               4.0           32        25        2031\n",
       "2         148.0               4.0           37        28         640\n",
       "3          90.0               4.0           18        16         873\n",
       "4         385.0               8.0           21        15        5657\n",
       "...         ...               ...          ...       ...         ...\n",
       "7145      300.0               6.0           31        20        3916\n",
       "7146      210.0               4.0           30        24         873\n",
       "7147      285.0               6.0           22        17         549\n",
       "7148      563.0              12.0           21        13          86\n",
       "7149      200.0               4.0           31        22         873\n",
       "\n",
       "[7150 rows x 5 columns]"
      ]
     },
     "execution_count": 57,
     "metadata": {},
     "output_type": "execute_result"
    }
   ],
   "source": [
    "base=['engine_hp','engine_cylinders','highway_mpg','city_mpg', 'popularity']\n",
    "df_train[base]"
   ]
  },
  {
   "cell_type": "code",
   "execution_count": 58,
   "id": "c59c28ea",
   "metadata": {},
   "outputs": [],
   "source": [
    "X_train=df_train[base].values"
   ]
  },
  {
   "cell_type": "code",
   "execution_count": 59,
   "id": "35e29883",
   "metadata": {},
   "outputs": [
    {
     "data": {
      "text/plain": [
       "array([ 9.57574708,  9.887663  ,  9.89323518, ..., 10.45380308,\n",
       "       12.62248099, 10.54061978])"
      ]
     },
     "execution_count": 59,
     "metadata": {},
     "output_type": "execute_result"
    }
   ],
   "source": [
    "y_train"
   ]
  },
  {
   "cell_type": "code",
   "execution_count": 60,
   "id": "bf422ce7",
   "metadata": {},
   "outputs": [],
   "source": [
    "#df_train[base].isnull().sum()\n",
    "X_train=df_train[base].fillna(0)"
   ]
  },
  {
   "cell_type": "code",
   "execution_count": 61,
   "id": "7ef34313",
   "metadata": {},
   "outputs": [],
   "source": [
    "w0,w=Train_regression(X_train,y_train)"
   ]
  },
  {
   "cell_type": "code",
   "execution_count": 62,
   "id": "c3522b93",
   "metadata": {},
   "outputs": [],
   "source": [
    "y_pred= w0+X_train.dot(w)"
   ]
  },
  {
   "cell_type": "code",
   "execution_count": 63,
   "id": "f1fa3fc1",
   "metadata": {},
   "outputs": [],
   "source": [
    "def linear_regression(xi,w,w0):\n",
    "    return w0+xi.dot(w)"
   ]
  },
  {
   "cell_type": "code",
   "execution_count": 64,
   "id": "77bb806f",
   "metadata": {},
   "outputs": [
    {
     "data": {
      "text/plain": [
       "0        9.547928\n",
       "1        9.387340\n",
       "2        9.671978\n",
       "3        8.654388\n",
       "4       10.866020\n",
       "          ...    \n",
       "7145    10.593528\n",
       "7146    10.111199\n",
       "7147    10.304230\n",
       "7148    11.977891\n",
       "7149     9.998631\n",
       "Length: 7150, dtype: float64"
      ]
     },
     "execution_count": 64,
     "metadata": {},
     "output_type": "execute_result"
    }
   ],
   "source": [
    "linear_regression(X_train,w,w0)"
   ]
  },
  {
   "cell_type": "code",
   "execution_count": 65,
   "id": "6035bbef",
   "metadata": {
    "scrolled": false
   },
   "outputs": [
    {
     "data": {
      "text/plain": [
       "<Axes: ylabel='Count'>"
      ]
     },
     "execution_count": 65,
     "metadata": {},
     "output_type": "execute_result"
    },
    {
     "data": {
      "image/png": "[encoded data removed]",
      "text/plain": [
       "<Figure size 640x480 with 1 Axes>"
      ]
     },
     "metadata": {},
     "output_type": "display_data"
    }
   ],
   "source": [
    "sns.histplot(y_pred,color='red',alpha=0.5,bins=50)\n",
    "sns.histplot(y_train,color='yellow',alpha=0.5,bins=50)"
   ]
  },
  {
   "cell_type": "markdown",
   "id": "9df1ee62",
   "metadata": {},
   "source": [
    "# RMSE (Root Mean Square Error)"
   ]
  },
  {
   "cell_type": "code",
   "execution_count": 66,
   "id": "f552ea3c",
   "metadata": {},
   "outputs": [],
   "source": [
    "def RMSE(y,y_pred):\n",
    "    E=y-y_pred\n",
    "    SE=E**2\n",
    "    MSE=SE.mean()\n",
    "    RMSE=np.sqrt(MSE)\n",
    "    return RMSE"
   ]
  },
  {
   "cell_type": "code",
   "execution_count": 67,
   "id": "ce9506e2",
   "metadata": {},
   "outputs": [
    {
     "data": {
      "text/plain": [
       "0.7554192603920132"
      ]
     },
     "execution_count": 67,
     "metadata": {},
     "output_type": "execute_result"
    }
   ],
   "source": [
    "RMSE(y_train,y_pred)"
   ]
  },
  {
   "cell_type": "markdown",
   "id": "289bf9c4",
   "metadata": {},
   "source": [
    "# Validation Model"
   ]
  },
  {
   "cell_type": "code",
   "execution_count": 68,
   "id": "6a77d27e",
   "metadata": {},
   "outputs": [],
   "source": [
    "base=['engine_hp','engine_cylinders','highway_mpg','city_mpg', 'popularity']\n",
    "def prep_X(df):\n",
    "    df_num=df[base]\n",
    "    df_num=df_num.fillna(0)\n",
    "    X=df_num.values\n",
    "    return X"
   ]
  },
  {
   "cell_type": "code",
   "execution_count": 74,
   "id": "6f12b5b0",
   "metadata": {},
   "outputs": [
    {
     "data": {
      "text/plain": [
       "0.7616530991301594"
      ]
     },
     "execution_count": 74,
     "metadata": {},
     "output_type": "execute_result"
    }
   ],
   "source": [
    "X_train=prep_X(df_train)\n",
    "w0,w=Train_regression(X_train,y_train)\n",
    "\n",
    "X_val=prep_X(df_val)\n",
    "y_pred=linear_regression(X_val,w,w0)\n",
    "\n",
    "RMSE(y_val,y_pred)"
   ]
  },
  {
   "cell_type": "markdown",
   "id": "4a0194c0",
   "metadata": {},
   "source": [
    "## Features Engineering"
   ]
  },
  {
   "cell_type": "code",
   "execution_count": 69,
   "id": "93f11ead",
   "metadata": {},
   "outputs": [
    {
     "data": {
      "text/plain": [
       "2017"
      ]
     },
     "execution_count": 69,
     "metadata": {},
     "output_type": "execute_result"
    }
   ],
   "source": [
    "df_train.year.max()"
   ]
  },
  {
   "cell_type": "code",
   "execution_count": 70,
   "id": "3256b13e",
   "metadata": {},
   "outputs": [
    {
     "data": {
      "text/plain": [
       "0        9\n",
       "1        5\n",
       "2        1\n",
       "3       26\n",
       "4        0\n",
       "        ..\n",
       "7145     2\n",
       "7146     2\n",
       "7147     2\n",
       "7148     3\n",
       "7149     0\n",
       "Name: year, Length: 7150, dtype: int64"
      ]
     },
     "execution_count": 70,
     "metadata": {},
     "output_type": "execute_result"
    }
   ],
   "source": [
    "2017-df_train.year"
   ]
  },
  {
   "cell_type": "code",
   "execution_count": 71,
   "id": "21881e2c",
   "metadata": {},
   "outputs": [],
   "source": [
    "base=['engine_hp','engine_cylinders','highway_mpg','city_mpg', 'popularity']\n",
    "def prep_X(df):\n",
    "    df=df.copy()\n",
    "    \n",
    "    df['age']=2017-df['year']\n",
    "    features= ['age']+base\n",
    "    df_num=df[features]\n",
    "    df_num=df_num.fillna(0)\n",
    "    X=df_num.values\n",
    "    return X"
   ]
  },
  {
   "cell_type": "code",
   "execution_count": 72,
   "id": "ec7adf03",
   "metadata": {},
   "outputs": [],
   "source": [
    "X_train=prep_X(df_train)"
   ]
  },
  {
   "cell_type": "code",
   "execution_count": 73,
   "id": "95e3d1d8",
   "metadata": {},
   "outputs": [
    {
     "data": {
      "text/plain": [
       "array([[9.000e+00, 1.480e+02, 4.000e+00, 3.300e+01, 2.400e+01, 1.385e+03],\n",
       "       [5.000e+00, 1.320e+02, 4.000e+00, 3.200e+01, 2.500e+01, 2.031e+03],\n",
       "       [1.000e+00, 1.480e+02, 4.000e+00, 3.700e+01, 2.800e+01, 6.400e+02],\n",
       "       ...,\n",
       "       [2.000e+00, 2.850e+02, 6.000e+00, 2.200e+01, 1.700e+01, 5.490e+02],\n",
       "       [3.000e+00, 5.630e+02, 1.200e+01, 2.100e+01, 1.300e+01, 8.600e+01],\n",
       "       [0.000e+00, 2.000e+02, 4.000e+00, 3.100e+01, 2.200e+01, 8.730e+02]])"
      ]
     },
     "execution_count": 73,
     "metadata": {},
     "output_type": "execute_result"
    }
   ],
   "source": [
    "X_train"
   ]
  },
  {
   "cell_type": "code",
   "execution_count": 74,
   "id": "ffcd6a96",
   "metadata": {},
   "outputs": [
    {
     "data": {
      "text/plain": [
       "0.5172055461058327"
      ]
     },
     "execution_count": 74,
     "metadata": {},
     "output_type": "execute_result"
    }
   ],
   "source": [
    "w0,w=Train_regression(X_train,y_train)\n",
    "\n",
    "X_val=prep_X(df_val)\n",
    "y_pred=linear_regression(X_val,w,w0)\n",
    "\n",
    "RMSE(y_val,y_pred)"
   ]
  },
  {
   "cell_type": "code",
   "execution_count": 75,
   "id": "04bfcd33",
   "metadata": {},
   "outputs": [
    {
     "data": {
      "text/plain": [
       "<Axes: ylabel='Count'>"
      ]
     },
     "execution_count": 75,
     "metadata": {},
     "output_type": "execute_result"
    },
    {
     "data": {
      "image/png": "[encoded data removed]",
      "text/plain": [
       "<Figure size 640x480 with 1 Axes>"
      ]
     },
     "metadata": {},
     "output_type": "display_data"
    }
   ],
   "source": [
    "sns.histplot(y_pred,color='red',alpha=0.5,bins=50)\n",
    "sns.histplot(y_val,color='yellow',alpha=0.5,bins=50)"
   ]
  },
  {
   "cell_type": "markdown",
   "id": "0b81fab8",
   "metadata": {},
   "source": [
    "## Categorical variables"
   ]
  },
  {
   "cell_type": "code",
   "execution_count": 76,
   "id": "5386a791",
   "metadata": {},
   "outputs": [],
   "source": [
    "base=['engine_hp','engine_cylinders','highway_mpg','city_mpg', 'popularity']\n",
    "def prep_X(df):\n",
    "    df=df.copy()\n",
    "    features=base.copy()\n",
    "    \n",
    "    df['age']=2017-df['year']\n",
    "    features.append('age')\n",
    "    \n",
    "    for v in [2,3,4]:\n",
    "        df['num_doors_%s' % v]= (df.number_of_doors==v).astype('int')\n",
    "        features.append('num_doors_%s' % v)\n",
    "        \n",
    "    df_num=df[features]\n",
    "    df_num=df_num.fillna(0)\n",
    "    X=df_num.values\n",
    "    return X"
   ]
  },
  {
   "cell_type": "code",
   "execution_count": 77,
   "id": "c448cfe6",
   "metadata": {},
   "outputs": [
    {
     "data": {
      "text/plain": [
       "0.5157995641503085"
      ]
     },
     "execution_count": 77,
     "metadata": {},
     "output_type": "execute_result"
    }
   ],
   "source": [
    "X_train=prep_X(df_train)\n",
    "X_train\n",
    "w0,w=Train_regression(X_train,y_train)\n",
    "X_val=prep_X(df_val)\n",
    "y_pred=linear_regression(X_val,w,w0)\n",
    "RMSE(y_val,y_pred)"
   ]
  },
  {
   "cell_type": "code",
   "execution_count": 78,
   "id": "2e31f64e",
   "metadata": {},
   "outputs": [],
   "source": [
    "makes=list(df.make.value_counts().head().index)"
   ]
  },
  {
   "cell_type": "code",
   "execution_count": 79,
   "id": "a0dc1085",
   "metadata": {},
   "outputs": [],
   "source": [
    "base=['engine_hp','engine_cylinders','highway_mpg','city_mpg', 'popularity']\n",
    "def prep_X(df):\n",
    "    df=df.copy()\n",
    "    features=base.copy()\n",
    "    \n",
    "    df['age']=2017-df['year']\n",
    "    features.append('age')\n",
    "    \n",
    "    for v in [2,3,4]:\n",
    "        df['num_doors_%s' % v]= (df.number_of_doors==v).astype('int')\n",
    "        features.append('num_doors_%s' % v)\n",
    "        \n",
    "    for v in makes:\n",
    "        df['make_%s' % v]= (df.make==v).astype('int')\n",
    "        features.append('make_%s' % v)   \n",
    "        \n",
    "    df_num=df[features]\n",
    "    df_num=df_num.fillna(0)\n",
    "    X=df_num.values\n",
    "    return X"
   ]
  },
  {
   "cell_type": "code",
   "execution_count": 80,
   "id": "5f6f38c7",
   "metadata": {},
   "outputs": [
    {
     "data": {
      "text/plain": [
       "0.5076038849555671"
      ]
     },
     "execution_count": 80,
     "metadata": {},
     "output_type": "execute_result"
    }
   ],
   "source": [
    "X_train=prep_X(df_train)\n",
    "X_train\n",
    "w0,w=Train_regression(X_train,y_train)\n",
    "X_val=prep_X(df_val)\n",
    "y_pred=linear_regression(X_val,w,w0)\n",
    "RMSE(y_val,y_pred)"
   ]
  },
  {
   "cell_type": "code",
   "execution_count": 81,
   "id": "ce7c6762",
   "metadata": {},
   "outputs": [
    {
     "data": {
      "text/plain": [
       "make                  object\n",
       "model                 object\n",
       "year                   int64\n",
       "engine_fuel_type      object\n",
       "engine_hp            float64\n",
       "engine_cylinders     float64\n",
       "transmission_type     object\n",
       "driven_wheels         object\n",
       "number_of_doors      float64\n",
       "market_category       object\n",
       "vehicle_size          object\n",
       "vehicle_style         object\n",
       "highway_mpg            int64\n",
       "city_mpg               int64\n",
       "popularity             int64\n",
       "msrp                   int64\n",
       "dtype: object"
      ]
     },
     "execution_count": 81,
     "metadata": {},
     "output_type": "execute_result"
    }
   ],
   "source": [
    "df.dtypes"
   ]
  },
  {
   "cell_type": "code",
   "execution_count": 82,
   "id": "6b85d6d5",
   "metadata": {},
   "outputs": [],
   "source": [
    "categorical=[\n",
    "    'make','engine_fuel_type','transmission_type','driven_wheels',\n",
    "    'market_category','vehicle_size','vehicle_style'\n",
    "]"
   ]
  },
  {
   "cell_type": "code",
   "execution_count": 83,
   "id": "ae24b4f7",
   "metadata": {},
   "outputs": [],
   "source": [
    "catog={}\n",
    "\n",
    "for c in categorical:\n",
    "    catog[c]=list(df[c].value_counts().head().index)\n"
   ]
  },
  {
   "cell_type": "code",
   "execution_count": 84,
   "id": "873032a8",
   "metadata": {},
   "outputs": [],
   "source": [
    "# Prep function including categorical varibles \n",
    "# final Format\n",
    "base=['engine_hp','engine_cylinders','highway_mpg','city_mpg', 'popularity']\n",
    "def prep_X(df):\n",
    "    df=df.copy()\n",
    "    features=base.copy()\n",
    "    \n",
    "    df['age']=2017-df['year']\n",
    "    features.append('age')\n",
    "    \n",
    "    for v in [2,3,4]:\n",
    "        df['num_doors_%s' % v]= (df.number_of_doors==v).astype('int')\n",
    "        features.append('num_doors_%s' % v)\n",
    "        \n",
    "    for c, values in catog.items():\n",
    "        for v in values:\n",
    "            df['%s_%s' % (c,v)]= (df[c]==v).astype('int')\n",
    "            features.append('%s_%s' % (c,v))  \n",
    "        \n",
    "    df_num=df[features]\n",
    "    df_num=df_num.fillna(0)\n",
    "    X=df_num.values\n",
    "    return X"
   ]
  },
  {
   "cell_type": "code",
   "execution_count": 85,
   "id": "220813f0",
   "metadata": {},
   "outputs": [
    {
     "data": {
      "text/plain": [
       "52.08765237410741"
      ]
     },
     "execution_count": 85,
     "metadata": {},
     "output_type": "execute_result"
    }
   ],
   "source": [
    "X_train=prep_X(df_train)\n",
    "X_train\n",
    "w0,w=Train_regression(X_train,y_train)\n",
    "X_val=prep_X(df_val)\n",
    "y_pred=linear_regression(X_val,w,w0)\n",
    "RMSE(y_val,y_pred)"
   ]
  },
  {
   "cell_type": "code",
   "execution_count": 86,
   "id": "db51382b",
   "metadata": {},
   "outputs": [
    {
     "data": {
      "text/plain": [
       "array([1.480e+02, 4.000e+00, 3.300e+01, 2.400e+01, 1.385e+03, 9.000e+00,\n",
       "       1.000e+00, 0.000e+00, 0.000e+00, 1.000e+00, 0.000e+00, 0.000e+00,\n",
       "       0.000e+00, 0.000e+00, 1.000e+00, 0.000e+00, 0.000e+00, 0.000e+00,\n",
       "       0.000e+00, 0.000e+00, 1.000e+00, 0.000e+00, 0.000e+00, 0.000e+00,\n",
       "       1.000e+00, 0.000e+00, 0.000e+00, 0.000e+00, 0.000e+00, 0.000e+00,\n",
       "       0.000e+00, 0.000e+00, 0.000e+00, 1.000e+00, 0.000e+00, 0.000e+00,\n",
       "       0.000e+00, 0.000e+00, 1.000e+00, 0.000e+00, 0.000e+00])"
      ]
     },
     "execution_count": 86,
     "metadata": {},
     "output_type": "execute_result"
    }
   ],
   "source": [
    "X_train[0]"
   ]
  },
  {
   "cell_type": "markdown",
   "id": "889c7f46",
   "metadata": {},
   "source": [
    "# Regularization"
   ]
  },
  {
   "cell_type": "code",
   "execution_count": 167,
   "id": "dea62809",
   "metadata": {},
   "outputs": [],
   "source": [
    "def Train_regression_reg(X,y,r=0.001):\n",
    "    ones=np.ones(X.shape[0])\n",
    "    X=np.column_stack([ones,X])\n",
    "    XTX=X.T.dot(X)\n",
    "    XTX=XTX + r * np.eye(XTX.shape[0])\n",
    "    XTX_inv=np.linalg.inv(XTX)\n",
    "    W=XTX_inv.dot(X.T).dot(y)\n",
    "    w0=W[0]\n",
    "    w_full=W[1:]\n",
    "    \n",
    "    return w0,w_full"
   ]
  },
  {
   "cell_type": "code",
   "execution_count": 171,
   "id": "68002e2a",
   "metadata": {},
   "outputs": [
    {
     "data": {
      "text/plain": [
       "0.4565175086094597"
      ]
     },
     "execution_count": 171,
     "metadata": {},
     "output_type": "execute_result"
    }
   ],
   "source": [
    "X_train=prep_X(df_train)\n",
    "X_train\n",
    "w0,w=Train_regression_reg(X_train,y_train,r=0.01)\n",
    "X_val=prep_X(df_val)\n",
    "y_pred=linear_regression(X_val,w,w0)\n",
    "RMSE(y_val,y_pred)"
   ]
  },
  {
   "cell_type": "markdown",
   "id": "d9012105",
   "metadata": {},
   "source": [
    "# Tuning Model"
   ]
  },
  {
   "cell_type": "code",
   "execution_count": 174,
   "id": "3110613c",
   "metadata": {},
   "outputs": [
    {
     "name": "stdout",
     "output_type": "stream",
     "text": [
      "0 52.08765237410741\n",
      "1e-05 0.45651702775634717\n",
      "0.0001 0.45651706457624014\n",
      "0.001 0.4565175086094597\n",
      "0.01 0.456521990118657\n",
      "0.1 0.4565692763037788\n",
      "1 0.45722043179960414\n",
      "10 0.4701456932100265\n"
     ]
    }
   ],
   "source": [
    "for reg in [0,0.00001,0.0001,0.001,0.01,0.1,1,10]:\n",
    "    X_train=prep_X(df_train)\n",
    "    X_train\n",
    "    w0,w=Train_regression_reg(X_train,y_train,r=reg)\n",
    "    X_val=prep_X(df_val)\n",
    "    y_pred=linear_regression(X_val,w,w0)\n",
    "    score=RMSE(y_val,y_pred)\n",
    "    print(reg,score)"
   ]
  },
  {
   "cell_type": "code",
   "execution_count": 175,
   "id": "570ef005",
   "metadata": {},
   "outputs": [
    {
     "data": {
      "text/plain": [
       "0.4565175086094597"
      ]
     },
     "execution_count": 175,
     "metadata": {},
     "output_type": "execute_result"
    }
   ],
   "source": [
    "reg=0.001\n",
    "X_train=prep_X(df_train)\n",
    "X_train\n",
    "w0,w=Train_regression_reg(X_train,y_train,r=reg)\n",
    "X_val=prep_X(df_val)\n",
    "y_pred=linear_regression(X_val,w,w0)\n",
    "RMSE(y_val,y_pred)"
   ]
  },
  {
   "cell_type": "markdown",
   "id": "f8a7d28e",
   "metadata": {},
   "source": [
    "# Using Model on Test Data"
   ]
  },
  {
   "cell_type": "code",
   "execution_count": 176,
   "id": "b70a06e2",
   "metadata": {},
   "outputs": [],
   "source": [
    "df_full_train = pd.concat([df_train,df_val])"
   ]
  },
  {
   "cell_type": "code",
   "execution_count": 179,
   "id": "ab652e6b",
   "metadata": {},
   "outputs": [],
   "source": [
    "df_full_train=df_full_train.reset_index(drop=True)"
   ]
  },
  {
   "cell_type": "code",
   "execution_count": 182,
   "id": "9637945c",
   "metadata": {},
   "outputs": [],
   "source": [
    "y_full_train=np.concatenate([y_train,y_val])"
   ]
  },
  {
   "cell_type": "code",
   "execution_count": 189,
   "id": "cb8edc83",
   "metadata": {},
   "outputs": [],
   "source": [
    "X_full_train=prep_X(df_full_train)\n",
    "w0,w=Train_regression_reg(X_full_train,y_full_train,r=reg)"
   ]
  },
  {
   "cell_type": "code",
   "execution_count": 190,
   "id": "99645345",
   "metadata": {},
   "outputs": [],
   "source": [
    "X_test=prep_X(df_test)\n",
    "y_pred=linear_regression(X_test,w,w0)"
   ]
  },
  {
   "cell_type": "code",
   "execution_count": 191,
   "id": "9b5f7b32",
   "metadata": {},
   "outputs": [
    {
     "data": {
      "text/plain": [
       "0.4517749309383914"
      ]
     },
     "execution_count": 191,
     "metadata": {},
     "output_type": "execute_result"
    }
   ],
   "source": [
    "RMSE(y_test,y_pred)"
   ]
  },
  {
   "cell_type": "code",
   "execution_count": 195,
   "id": "c8e32ecf",
   "metadata": {},
   "outputs": [
    {
     "data": {
      "text/plain": [
       "{'make': 'toyota',\n",
       " 'model': 'sienna',\n",
       " 'year': 2015,\n",
       " 'engine_fuel_type': 'regular_unleaded',\n",
       " 'engine_hp': 266.0,\n",
       " 'engine_cylinders': 6.0,\n",
       " 'transmission_type': 'automatic',\n",
       " 'driven_wheels': 'front_wheel_drive',\n",
       " 'number_of_doors': 4.0,\n",
       " 'market_category': nan,\n",
       " 'vehicle_size': 'large',\n",
       " 'vehicle_style': 'passenger_minivan',\n",
       " 'highway_mpg': 25,\n",
       " 'city_mpg': 18,\n",
       " 'popularity': 2031}"
      ]
     },
     "execution_count": 195,
     "metadata": {},
     "output_type": "execute_result"
    }
   ],
   "source": [
    "# pretending data comes from outside eg: website or app\n",
    "# so it should be in dict format \n",
    "car=df_test.iloc[20].to_dict()\n",
    "car"
   ]
  },
  {
   "cell_type": "code",
   "execution_count": 197,
   "id": "b74bde0f",
   "metadata": {},
   "outputs": [
    {
     "data": {
      "text/html": [
       "<div>\n",
       "<style scoped>\n",
       "    .dataframe tbody tr th:only-of-type {\n",
       "        vertical-align: middle;\n",
       "    }\n",
       "\n",
       "    .dataframe tbody tr th {\n",
       "        vertical-align: top;\n",
       "    }\n",
       "\n",
       "    .dataframe thead th {\n",
       "        text-align: right;\n",
       "    }\n",
       "</style>\n",
       "<table border=\"1\" class=\"dataframe\">\n",
       "  <thead>\n",
       "    <tr style=\"text-align: right;\">\n",
       "      <th></th>\n",
       "      <th>make</th>\n",
       "      <th>model</th>\n",
       "      <th>year</th>\n",
       "      <th>engine_fuel_type</th>\n",
       "      <th>engine_hp</th>\n",
       "      <th>engine_cylinders</th>\n",
       "      <th>transmission_type</th>\n",
       "      <th>driven_wheels</th>\n",
       "      <th>number_of_doors</th>\n",
       "      <th>market_category</th>\n",
       "      <th>vehicle_size</th>\n",
       "      <th>vehicle_style</th>\n",
       "      <th>highway_mpg</th>\n",
       "      <th>city_mpg</th>\n",
       "      <th>popularity</th>\n",
       "    </tr>\n",
       "  </thead>\n",
       "  <tbody>\n",
       "    <tr>\n",
       "      <th>0</th>\n",
       "      <td>toyota</td>\n",
       "      <td>sienna</td>\n",
       "      <td>2015</td>\n",
       "      <td>regular_unleaded</td>\n",
       "      <td>266.0</td>\n",
       "      <td>6.0</td>\n",
       "      <td>automatic</td>\n",
       "      <td>front_wheel_drive</td>\n",
       "      <td>4.0</td>\n",
       "      <td>NaN</td>\n",
       "      <td>large</td>\n",
       "      <td>passenger_minivan</td>\n",
       "      <td>25</td>\n",
       "      <td>18</td>\n",
       "      <td>2031</td>\n",
       "    </tr>\n",
       "  </tbody>\n",
       "</table>\n",
       "</div>"
      ],
      "text/plain": [
       "     make   model  year  engine_fuel_type  engine_hp  engine_cylinders  \\\n",
       "0  toyota  sienna  2015  regular_unleaded      266.0               6.0   \n",
       "\n",
       "  transmission_type      driven_wheels  number_of_doors  market_category  \\\n",
       "0         automatic  front_wheel_drive              4.0              NaN   \n",
       "\n",
       "  vehicle_size      vehicle_style  highway_mpg  city_mpg  popularity  \n",
       "0        large  passenger_minivan           25        18        2031  "
      ]
     },
     "execution_count": 197,
     "metadata": {},
     "output_type": "execute_result"
    }
   ],
   "source": [
    "# converting dict to data frame\n",
    "df_small=pd.DataFrame([car])\n",
    "df_small"
   ]
  },
  {
   "cell_type": "code",
   "execution_count": 198,
   "id": "4bf5c1f0",
   "metadata": {},
   "outputs": [],
   "source": [
    "X_small=prep_X(df_small)"
   ]
  },
  {
   "cell_type": "code",
   "execution_count": 199,
   "id": "018dbec3",
   "metadata": {},
   "outputs": [
    {
     "data": {
      "text/plain": [
       "array([10.46265169])"
      ]
     },
     "execution_count": 199,
     "metadata": {},
     "output_type": "execute_result"
    }
   ],
   "source": [
    "y_pred=linear_regression(X_small,w,w0)\n",
    "y_pred"
   ]
  },
  {
   "cell_type": "code",
   "execution_count": 201,
   "id": "509792a1",
   "metadata": {},
   "outputs": [
    {
     "data": {
      "text/plain": [
       "34983.195872867545"
      ]
     },
     "execution_count": 201,
     "metadata": {},
     "output_type": "execute_result"
    }
   ],
   "source": [
    "np.expm1(y_pred[0])"
   ]
  },
  {
   "cell_type": "code",
   "execution_count": 204,
   "id": "d812a522",
   "metadata": {},
   "outputs": [
    {
     "data": {
      "text/plain": [
       "35000.00000000001"
      ]
     },
     "execution_count": 204,
     "metadata": {},
     "output_type": "execute_result"
    }
   ],
   "source": [
    "np.expm1(y_test[20])"
   ]
  }
 ],
 "metadata": {
  "kernelspec": {
   "display_name": "Python 3 (ipykernel)",
   "language": "python",
   "name": "python3"
  },
  "language_info": {
   "codemirror_mode": {
    "name": "ipython",
    "version": 3
   },
   "file_extension": ".py",
   "mimetype": "text/x-python",
   "name": "python",
   "nbconvert_exporter": "python",
   "pygments_lexer": "ipython3",
   "version": "3.11.4"
  }
 },
 "nbformat": 4,
 "nbformat_minor": 5
}
